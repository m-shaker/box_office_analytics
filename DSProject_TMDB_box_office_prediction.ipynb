{
  "nbformat": 4,
  "nbformat_minor": 0,
  "metadata": {
    "kernelspec": {
      "display_name": "Python 3",
      "language": "python",
      "name": "python3"
    },
    "language_info": {
      "codemirror_mode": {
        "name": "ipython",
        "version": 3
      },
      "file_extension": ".py",
      "mimetype": "text/x-python",
      "name": "python",
      "nbconvert_exporter": "python",
      "pygments_lexer": "ipython3",
      "version": "3.7.3"
    },
    "colab": {
      "name": "DSProject_TMDB_box_office_prediction.ipynb",
      "provenance": [],
      "collapsed_sections": []
    }
  },
  "cells": [
    {
      "cell_type": "code",
      "metadata": {
        "id": "0lKkp0QYgDas",
        "colab_type": "code",
        "colab": {}
      },
      "source": [
        "import numpy as np\n",
        "import pandas as pd\n",
        "import matplotlib.pyplot as plt\n",
        "import seaborn as sns \n",
        "import warnings\n",
        "from tqdm import tqdm\n",
        "from datetime import datetime\n",
        "from sklearn.model_selection import train_test_split,cross_val_score,GridSearchCV\n",
        "from sklearn.ensemble import RandomForestRegressor,RandomForestClassifier,GradientBoostingRegressor,GradientBoostingClassifier\n",
        "from sklearn.metrics import mean_squared_error\n",
        "import json\n",
        "#from sklearn.preprocessing import LabelEncoder"
      ],
      "execution_count": 0,
      "outputs": []
    },
    {
      "cell_type": "markdown",
      "metadata": {
        "id": "gx3zHckMgDay",
        "colab_type": "text"
      },
      "source": [
        "### References\n",
        "\n",
        "Review paper of random forest method\n",
        "https://pdfs.semanticscholar.org/0a37/d219db73937b0c8f7ee7e2eec3427149e815.pdf\n",
        "(This is the link of paper however we need to cite it right)\n",
        "\n",
        "link that describes the TMDB dataset.\n",
        "https://www.kaggle.com/tmdb/tmdb-movie-metadata\n",
        "https://www.kaggle.com/c/tmdb-box-office-prediction\n",
        "\n",
        "Feature engineering methods come from \n",
        "https://www.kaggle.com/kamalchhirang/eda-feature-engineering-lgb-xgb-cat\n",
        "\n",
        "Parameter tuning methods come from \n",
        "https://juejin.im/post/5b7669c4f265da281c1fbf96\n",
        "\n",
        "### Variable description\n",
        "\n",
        "budget:Budget of a movie in dollars. 0 values mean unknown.\n",
        "\n",
        "genres : Contains all the Genres Name & TMDB Id in JSON Format\n",
        "\n",
        "homepage - Contains the official homepage URL of a movie. Example: http://sonyclassics.com/whiplash/ , this is the homepage of Whiplash movie.\n",
        "\n",
        "movie_id - IMDB id of a movie (string). You can visit the IMDB Page like this: https://www.imdb.com/title/\n",
        "\n",
        "original_language - Two digit code of the original language, in which the movie was made. Like: en = English, fr = french.\n",
        "\n",
        "original_title - The original title of a movie. Title & Original title may differ, if the original title is not in English.\n",
        "\n",
        "overview - Brief description of the movie.\n",
        "\n",
        "popularity - Popularity of the movie in float.\n",
        "\n",
        "production_companies - All production company name and TMDB id in JSON format of a movie.\n",
        "\n",
        "production_countries - Two digit code and full name of the production company in JSON format.\n",
        "\n",
        "release_date - Release date of a movie in mm/dd/yy format.\n",
        "\n",
        "runtime - Total runtime of a movie in minutes (Integer).\n",
        "\n",
        "spoken_languages - Two digit code and full name of the spoken language.\n",
        "\n",
        "status - Is the movie released or rumored?\n",
        "\n",
        "tagline - Tagline of a movie\n",
        "\n",
        "title - English title of a movie\n",
        "\n",
        "keywords - TMDB Id and name of all the keywords in JSON format.\n",
        "\n",
        "cast - All cast TMDB id, name, character name, gender (1 = Female, 2 = Male) in JSON format\n",
        "\n",
        "crew - Name, TMDB id, profile path of various kind of crew members job like Director, Writer, Art, Sound etc.\n",
        "\n",
        "revenue - Total revenue earned by a movie in dollars"
      ]
    },
    {
      "cell_type": "code",
      "metadata": {
        "id": "QMxL33vngDaz",
        "colab_type": "code",
        "colab": {}
      },
      "source": [
        "credits_link=\"https://raw.githubusercontent.com/alicexja/BoxOfficePrediction/master/tmdb_5000_credits.csv\"\n",
        "movies_link = \"https://raw.githubusercontent.com/alicexja/BoxOfficePrediction/master/tmdb_5000_movies.csv\"\n",
        "\n",
        "credits = pd.read_csv(credits_link,encoding='iso-8859-1')\n",
        "movies = pd.read_csv(movies_link,encoding='iso-8859-1')\n",
        "df = pd.merge(credits,movies,how='right',on=['movie_id'])\n"
      ],
      "execution_count": 0,
      "outputs": []
    },
    {
      "cell_type": "code",
      "metadata": {
        "id": "YsvWg2lckyjW",
        "colab_type": "code",
        "outputId": "342d2586-772a-4b99-c8b5-f997200ca40d",
        "colab": {
          "base_uri": "https://localhost:8080/",
          "height": 161
        }
      },
      "source": [
        "df.columns"
      ],
      "execution_count": 0,
      "outputs": [
        {
          "output_type": "execute_result",
          "data": {
            "text/plain": [
              "Index(['movie_id', 'title_x', 'cast', 'crew', 'budget', 'genres', 'homepage',\n",
              "       'keywords', 'original_language', 'original_title', 'overview',\n",
              "       'popularity', 'production_companies', 'production_countries',\n",
              "       'release_date', 'revenue', 'runtime', 'spoken_languages', 'status',\n",
              "       'tagline', 'title_y', 'vote_average', 'vote_count', 'Unnamed: 20',\n",
              "       'Unnamed: 21', 'Unnamed: 22', 'Unnamed: 23', 'Unnamed: 24',\n",
              "       'Unnamed: 25', 'Unnamed: 26'],\n",
              "      dtype='object')"
            ]
          },
          "metadata": {
            "tags": []
          },
          "execution_count": 48
        }
      ]
    },
    {
      "cell_type": "code",
      "metadata": {
        "id": "O3wLVWxIkwCf",
        "colab_type": "code",
        "colab": {}
      },
      "source": [
        "df=df.drop([\"title_y\",\"Unnamed: 20\",\"Unnamed: 21\",\"Unnamed: 22\",\"Unnamed: 23\",\"Unnamed: 24\",\"Unnamed: 25\",\"Unnamed: 26\"],axis=1)\n",
        "df=df.drop(df[(df.status!=\"Released\") & (df.status!=\"Rumored\")&(df.status!=\"Post Production\")].index)\n",
        "df=df.drop(df[df.release_date.isna()].index)"
      ],
      "execution_count": 0,
      "outputs": []
    },
    {
      "cell_type": "code",
      "metadata": {
        "id": "7TSeKL_PgDa4",
        "colab_type": "code",
        "outputId": "4873e238-059f-4154-d969-5ab28ac39103",
        "colab": {
          "base_uri": "https://localhost:8080/",
          "height": 35
        }
      },
      "source": [
        "df.shape"
      ],
      "execution_count": 0,
      "outputs": [
        {
          "output_type": "execute_result",
          "data": {
            "text/plain": [
              "(4778, 22)"
            ]
          },
          "metadata": {
            "tags": []
          },
          "execution_count": 50
        }
      ]
    },
    {
      "cell_type": "code",
      "metadata": {
        "id": "E5B3e73sgDbC",
        "colab_type": "code",
        "outputId": "735b8ef3-ba07-4052-9018-6c9f95e279dc",
        "colab": {
          "base_uri": "https://localhost:8080/",
          "height": 431
        }
      },
      "source": [
        "df.isna().sum()"
      ],
      "execution_count": 0,
      "outputs": [
        {
          "output_type": "execute_result",
          "data": {
            "text/plain": [
              "movie_id                   0\n",
              "title_x                    0\n",
              "cast                       0\n",
              "crew                       0\n",
              "budget                     0\n",
              "genres                     0\n",
              "homepage                3070\n",
              "keywords                   0\n",
              "original_language          0\n",
              "original_title             0\n",
              "overview                   3\n",
              "popularity                 0\n",
              "production_companies       0\n",
              "production_countries       0\n",
              "release_date               0\n",
              "revenue                    0\n",
              "runtime                    2\n",
              "spoken_languages           0\n",
              "status                     0\n",
              "tagline                  834\n",
              "vote_average               0\n",
              "vote_count                 1\n",
              "dtype: int64"
            ]
          },
          "metadata": {
            "tags": []
          },
          "execution_count": 51
        }
      ]
    },
    {
      "cell_type": "code",
      "metadata": {
        "id": "0_CapnaSgDbK",
        "colab_type": "code",
        "outputId": "c2fdfcfb-9691-4091-8221-e98b4b452a74",
        "colab": {
          "base_uri": "https://localhost:8080/",
          "height": 725
        }
      },
      "source": [
        "df.head()"
      ],
      "execution_count": 0,
      "outputs": [
        {
          "output_type": "execute_result",
          "data": {
            "text/html": [
              "<div>\n",
              "<style scoped>\n",
              "    .dataframe tbody tr th:only-of-type {\n",
              "        vertical-align: middle;\n",
              "    }\n",
              "\n",
              "    .dataframe tbody tr th {\n",
              "        vertical-align: top;\n",
              "    }\n",
              "\n",
              "    .dataframe thead th {\n",
              "        text-align: right;\n",
              "    }\n",
              "</style>\n",
              "<table border=\"1\" class=\"dataframe\">\n",
              "  <thead>\n",
              "    <tr style=\"text-align: right;\">\n",
              "      <th></th>\n",
              "      <th>movie_id</th>\n",
              "      <th>title_x</th>\n",
              "      <th>cast</th>\n",
              "      <th>crew</th>\n",
              "      <th>budget</th>\n",
              "      <th>genres</th>\n",
              "      <th>homepage</th>\n",
              "      <th>keywords</th>\n",
              "      <th>original_language</th>\n",
              "      <th>original_title</th>\n",
              "      <th>overview</th>\n",
              "      <th>popularity</th>\n",
              "      <th>production_companies</th>\n",
              "      <th>production_countries</th>\n",
              "      <th>release_date</th>\n",
              "      <th>revenue</th>\n",
              "      <th>runtime</th>\n",
              "      <th>spoken_languages</th>\n",
              "      <th>status</th>\n",
              "      <th>tagline</th>\n",
              "      <th>vote_average</th>\n",
              "      <th>vote_count</th>\n",
              "    </tr>\n",
              "  </thead>\n",
              "  <tbody>\n",
              "    <tr>\n",
              "      <th>0</th>\n",
              "      <td>19995</td>\n",
              "      <td>Avatar</td>\n",
              "      <td>[{\"cast_id\": 242, \"character\": \"Jake Sully\", \"...</td>\n",
              "      <td>[{\"credit_id\": \"52fe48009251416c750aca23\", \"de...</td>\n",
              "      <td>237000000</td>\n",
              "      <td>[{\"id\": 28, \"name\": \"Action\"}, {\"id\": 12, \"nam...</td>\n",
              "      <td>http://www.avatarmovie.com/</td>\n",
              "      <td>[{\"id\": 1463, \"name\": \"culture clash\"}, {\"id\":...</td>\n",
              "      <td>en</td>\n",
              "      <td>Avatar</td>\n",
              "      <td>In the 22nd century, a paraplegic Marine is di...</td>\n",
              "      <td>150.437577</td>\n",
              "      <td>[{\"name\": \"Ingenious Film Partners\", \"id\": 289...</td>\n",
              "      <td>[{\"iso_3166_1\": \"US\", \"name\": \"United States o...</td>\n",
              "      <td>2009/12/10</td>\n",
              "      <td>2787965087</td>\n",
              "      <td>162.0</td>\n",
              "      <td>[{\"iso_639_1\": \"en\", \"name\": \"English\"}, {\"iso...</td>\n",
              "      <td>Released</td>\n",
              "      <td>Enter the World of Pandora.</td>\n",
              "      <td>7.2</td>\n",
              "      <td>11800.0</td>\n",
              "    </tr>\n",
              "    <tr>\n",
              "      <th>1</th>\n",
              "      <td>285</td>\n",
              "      <td>Pirates of the Caribbean: At World's End</td>\n",
              "      <td>[{\"cast_id\": 4, \"character\": \"Captain Jack Spa...</td>\n",
              "      <td>[{\"credit_id\": \"52fe4232c3a36847f800b579\", \"de...</td>\n",
              "      <td>300000000</td>\n",
              "      <td>[{\"id\": 12, \"name\": \"Adventure\"}, {\"id\": 14, \"...</td>\n",
              "      <td>http://disney.go.com/disneypictures/pirates/</td>\n",
              "      <td>[{\"id\": 270, \"name\": \"ocean\"}, {\"id\": 726, \"na...</td>\n",
              "      <td>en</td>\n",
              "      <td>Pirates of the Caribbean: At World's End</td>\n",
              "      <td>Captain Barbossa, long believed to be dead, ha...</td>\n",
              "      <td>139.082615</td>\n",
              "      <td>[{\"name\": \"Walt Disney Pictures\", \"id\": 2}, {\"...</td>\n",
              "      <td>[{\"iso_3166_1\": \"US\", \"name\": \"United States o...</td>\n",
              "      <td>2007/5/19</td>\n",
              "      <td>961000000</td>\n",
              "      <td>169.0</td>\n",
              "      <td>[{\"iso_639_1\": \"en\", \"name\": \"English\"}]</td>\n",
              "      <td>Released</td>\n",
              "      <td>At the end of the world, the adventure begins.</td>\n",
              "      <td>6.9</td>\n",
              "      <td>4500.0</td>\n",
              "    </tr>\n",
              "    <tr>\n",
              "      <th>2</th>\n",
              "      <td>206647</td>\n",
              "      <td>Spectre</td>\n",
              "      <td>[{\"cast_id\": 1, \"character\": \"James Bond\", \"cr...</td>\n",
              "      <td>[{\"credit_id\": \"54805967c3a36829b5002c41\", \"de...</td>\n",
              "      <td>245000000</td>\n",
              "      <td>[{\"id\": 28, \"name\": \"Action\"}, {\"id\": 12, \"nam...</td>\n",
              "      <td>http://www.sonypictures.com/movies/spectre/</td>\n",
              "      <td>[{\"id\": 470, \"name\": \"spy\"}, {\"id\": 818, \"name...</td>\n",
              "      <td>en</td>\n",
              "      <td>Spectre</td>\n",
              "      <td>A cryptic message from Bondâs past sends him...</td>\n",
              "      <td>107.376788</td>\n",
              "      <td>[{\"name\": \"Columbia Pictures\", \"id\": 5}, {\"nam...</td>\n",
              "      <td>[{\"iso_3166_1\": \"GB\", \"name\": \"United Kingdom\"...</td>\n",
              "      <td>2015/10/26</td>\n",
              "      <td>880674609</td>\n",
              "      <td>148.0</td>\n",
              "      <td>[{\"iso_639_1\": \"fr\", \"name\": \"Fran\\u00e7ais\"},...</td>\n",
              "      <td>Released</td>\n",
              "      <td>A Plan No One Escapes</td>\n",
              "      <td>6.3</td>\n",
              "      <td>4466.0</td>\n",
              "    </tr>\n",
              "    <tr>\n",
              "      <th>3</th>\n",
              "      <td>49026</td>\n",
              "      <td>The Dark Knight Rises</td>\n",
              "      <td>[{\"cast_id\": 2, \"character\": \"Bruce Wayne / Ba...</td>\n",
              "      <td>[{\"credit_id\": \"52fe4781c3a36847f81398c3\", \"de...</td>\n",
              "      <td>250000000</td>\n",
              "      <td>[{\"id\": 28, \"name\": \"Action\"}, {\"id\": 80, \"nam...</td>\n",
              "      <td>http://www.thedarkknightrises.com/</td>\n",
              "      <td>[{\"id\": 849, \"name\": \"dc comics\"}, {\"id\": 853,...</td>\n",
              "      <td>en</td>\n",
              "      <td>The Dark Knight Rises</td>\n",
              "      <td>Following the death of District Attorney Harve...</td>\n",
              "      <td>112.312950</td>\n",
              "      <td>[{\"name\": \"Legendary Pictures\", \"id\": 923}, {\"...</td>\n",
              "      <td>[{\"iso_3166_1\": \"US\", \"name\": \"United States o...</td>\n",
              "      <td>2012/7/16</td>\n",
              "      <td>1084939099</td>\n",
              "      <td>165.0</td>\n",
              "      <td>[{\"iso_639_1\": \"en\", \"name\": \"English\"}]</td>\n",
              "      <td>Released</td>\n",
              "      <td>The Legend Ends</td>\n",
              "      <td>7.6</td>\n",
              "      <td>9106.0</td>\n",
              "    </tr>\n",
              "    <tr>\n",
              "      <th>4</th>\n",
              "      <td>49529</td>\n",
              "      <td>John Carter</td>\n",
              "      <td>[{\"cast_id\": 5, \"character\": \"John Carter\", \"c...</td>\n",
              "      <td>[{\"credit_id\": \"52fe479ac3a36847f813eaa3\", \"de...</td>\n",
              "      <td>260000000</td>\n",
              "      <td>[{\"id\": 28, \"name\": \"Action\"}, {\"id\": 12, \"nam...</td>\n",
              "      <td>http://movies.disney.com/john-carter</td>\n",
              "      <td>[{\"id\": 818, \"name\": \"based on novel\"}, {\"id\":...</td>\n",
              "      <td>en</td>\n",
              "      <td>John Carter</td>\n",
              "      <td>John Carter is a war-weary, former military ca...</td>\n",
              "      <td>43.926995</td>\n",
              "      <td>[{\"name\": \"Walt Disney Pictures\", \"id\": 2}]</td>\n",
              "      <td>[{\"iso_3166_1\": \"US\", \"name\": \"United States o...</td>\n",
              "      <td>2012/3/7</td>\n",
              "      <td>284139100</td>\n",
              "      <td>132.0</td>\n",
              "      <td>[{\"iso_639_1\": \"en\", \"name\": \"English\"}]</td>\n",
              "      <td>Released</td>\n",
              "      <td>Lost in our world, found in another.</td>\n",
              "      <td>6.1</td>\n",
              "      <td>2124.0</td>\n",
              "    </tr>\n",
              "  </tbody>\n",
              "</table>\n",
              "</div>"
            ],
            "text/plain": [
              "   movie_id                                   title_x  ... vote_average vote_count\n",
              "0     19995                                    Avatar  ...          7.2    11800.0\n",
              "1       285  Pirates of the Caribbean: At World's End  ...          6.9     4500.0\n",
              "2    206647                                   Spectre  ...          6.3     4466.0\n",
              "3     49026                     The Dark Knight Rises  ...          7.6     9106.0\n",
              "4     49529                               John Carter  ...          6.1     2124.0\n",
              "\n",
              "[5 rows x 22 columns]"
            ]
          },
          "metadata": {
            "tags": []
          },
          "execution_count": 52
        }
      ]
    },
    {
      "cell_type": "code",
      "metadata": {
        "id": "fc3TB7hWgDbS",
        "colab_type": "code",
        "colab": {}
      },
      "source": [
        "## first transform release dates to year,month,day and season\n",
        "df[['release_year','release_month','release_day']]=df['release_date'].str.split('/',expand=True).replace(np.nan, 0).astype(int)\n",
        "df['release_year'] = df['release_year']\n",
        "df.loc[ (df['release_year'] <= 19) & (df['release_year'] < 100), \"release_year\"] += 2000\n",
        "df.loc[ (df['release_year'] > 19)  & (df['release_year'] < 100), \"release_year\"] += 1900  \n",
        "releaseDate = pd.to_datetime(df['release_date']) \n",
        "df['release_dayofweek'] = releaseDate.dt.dayofweek \n",
        "df['release_quarter'] = releaseDate.dt.quarter     "
      ],
      "execution_count": 0,
      "outputs": []
    },
    {
      "cell_type": "code",
      "metadata": {
        "id": "6Mcty4vx5u6z",
        "colab_type": "code",
        "outputId": "46837cc1-de75-4c71-9e6e-358beeaa1e7f",
        "colab": {
          "base_uri": "https://localhost:8080/",
          "height": 777
        }
      },
      "source": [
        "## let's see the number of movies released over years\n",
        "plt.figure(figsize=(20,12))\n",
        "sns.countplot(df['release_year'].sort_values())\n",
        "plt.title(\"Movie Release count by Year\",fontsize=20)\n",
        "loc, labels = plt.xticks()\n",
        "plt.xticks(fontsize=12,rotation=90)\n",
        "plt.show()"
      ],
      "execution_count": 0,
      "outputs": [
        {
          "output_type": "display_data",
          "data": {
            "image/png": "[encoded data removed]",
            "text/plain": [
              "<Figure size 1440x864 with 1 Axes>"
            ]
          },
          "metadata": {
            "tags": []
          }
        }
      ]
    },
    {
      "cell_type": "code",
      "metadata": {
        "id": "ti0aja47534q",
        "colab_type": "code",
        "outputId": "c4aaacef-79b5-4d0f-c931-ad1e741437f3",
        "colab": {
          "base_uri": "https://localhost:8080/",
          "height": 765
        }
      },
      "source": [
        "## is there any difference in release number of movies over months?\n",
        "plt.figure(figsize=(20,12))\n",
        "sns.countplot(df['release_month'].sort_values())\n",
        "plt.title(\"Release Month Count\",fontsize=20)\n",
        "loc, labels = plt.xticks()\n",
        "loc, labels = loc, [\"Jan\", \"Feb\", \"Mar\", \"Apr\", \"May\", \"Jun\", \"Jul\", \"Aug\", \"Sep\", \"Oct\", \"Nov\", \"Dec\"]\n",
        "plt.xticks(loc, labels,fontsize=20)\n",
        "plt.show()"
      ],
      "execution_count": 0,
      "outputs": [
        {
          "output_type": "display_data",
          "data": {
            "image/png": "[encoded data removed]",
            "text/plain": [
              "<Figure size 1440x864 with 1 Axes>"
            ]
          },
          "metadata": {
            "tags": []
          }
        }
      ]
    },
    {
      "cell_type": "code",
      "metadata": {
        "id": "KS8-dWU16FRi",
        "colab_type": "code",
        "outputId": "7bcb3beb-fbf5-4974-a939-46f3ac289697",
        "colab": {
          "base_uri": "https://localhost:8080/",
          "height": 765
        }
      },
      "source": [
        "## release day of the week\n",
        "plt.figure(figsize=(20,12))\n",
        "sns.countplot(df['release_dayofweek'].sort_values())\n",
        "plt.title(\"Total movies released on Day Of Week\",fontsize=20)\n",
        "loc, labels = plt.xticks()\n",
        "loc, labels = loc, [\"Mon\",\"Tue\",\"Wed\",\"Thu\",\"Fri\",\"Sat\",\"Sun\"]\n",
        "plt.xticks(loc, labels,fontsize=20)\n",
        "plt.show()"
      ],
      "execution_count": 0,
      "outputs": [
        {
          "output_type": "display_data",
          "data": {
            "image/png": "[encoded data removed]",
            "text/plain": [
              "<Figure size 1440x864 with 1 Axes>"
            ]
          },
          "metadata": {
            "tags": []
          }
        }
      ]
    },
    {
      "cell_type": "code",
      "metadata": {
        "id": "_r_DURS4Fzw7",
        "colab_type": "code",
        "outputId": "ac92510e-70ee-4e8e-c7f3-4730a09eb2f2",
        "colab": {
          "base_uri": "https://localhost:8080/",
          "height": 53
        }
      },
      "source": [
        "## how many 0's are there in revenue and budget?\n",
        "budget_0 = df[df.budget<=0].index\n",
        "print(\"there are {} 0's in budget\".format(len(budget_0)))\n",
        "revenue_0 = df[df.revenue<=0].index\n",
        "print(\"there are {} 0's in revenue\".format(len(revenue_0)))"
      ],
      "execution_count": 0,
      "outputs": [
        {
          "output_type": "stream",
          "text": [
            "there are 1027 0's in budget\n",
            "there are 1416 0's in revenue\n"
          ],
          "name": "stdout"
        }
      ]
    },
    {
      "cell_type": "code",
      "metadata": {
        "id": "nCX85TaC7IwJ",
        "colab_type": "code",
        "outputId": "59aad279-a9a3-40bf-af9e-e4701b2b51ba",
        "colab": {
          "base_uri": "https://localhost:8080/",
          "height": 627
        }
      },
      "source": [
        "## plot revenue vs. year\n",
        "## need to plot before filling 0's to avoid distortion.\n",
        "revenue_year = df.groupby(\"release_year\")[\"revenue\"].aggregate('mean')\n",
        "revenue_year.plot(figsize=(15,10),color=\"g\")\n",
        "plt.xticks(np.arange(1920,2018,4))\n",
        "plt.xlabel(\"Release Year\")\n",
        "plt.ylabel(\"Revenue\")\n",
        "plt.title(\"Movie Mean Revenue By Year\",fontsize=20)\n",
        "plt.show()"
      ],
      "execution_count": 0,
      "outputs": [
        {
          "output_type": "display_data",
          "data": {
            "image/png": "[encoded data removed]",
            "text/plain": [
              "<Figure size 1080x720 with 1 Axes>"
            ]
          },
          "metadata": {
            "tags": []
          }
        }
      ]
    },
    {
      "cell_type": "code",
      "metadata": {
        "id": "iyVXmVDK7MRC",
        "colab_type": "code",
        "outputId": "26e1d267-c9d1-4c6e-e33a-31f106730cf9",
        "colab": {
          "base_uri": "https://localhost:8080/",
          "height": 627
        }
      },
      "source": [
        "## plot budget vs. year\n",
        "budget_year = df.groupby(\"release_year\")[\"budget\"].aggregate('mean')\n",
        "budget_year.plot(figsize=(15,10),color=\"g\")\n",
        "plt.xticks(np.arange(1920,2018,4))\n",
        "plt.xlabel(\"Release Year\")\n",
        "plt.ylabel(\"Budget\")\n",
        "plt.title(\"Movie Mean Budget By Year\",fontsize=20)\n",
        "plt.show()"
      ],
      "execution_count": 0,
      "outputs": [
        {
          "output_type": "display_data",
          "data": {
            "image/png": "[encoded data removed]",
            "text/plain": [
              "<Figure size 1080x720 with 1 Axes>"
            ]
          },
          "metadata": {
            "tags": []
          }
        }
      ]
    },
    {
      "cell_type": "code",
      "metadata": {
        "id": "hCsuu_bhGtjf",
        "colab_type": "code",
        "colab": {}
      },
      "source": [
        "## we need to deal with them because budget and revenue shoudn't be 0\n",
        "## replace the value with median\n",
        "df.loc[df.revenue <=0,\"revenue\"] = df.revenue.median()\n",
        "df.loc[df.budget<=0,\"budget\"]=df.budget.median()"
      ],
      "execution_count": 0,
      "outputs": []
    },
    {
      "cell_type": "code",
      "metadata": {
        "id": "YDwQVhKpIBQo",
        "colab_type": "code",
        "outputId": "5dac3399-bdfb-4773-c3da-5c2c153b7fc2",
        "colab": {
          "base_uri": "https://localhost:8080/",
          "height": 308
        }
      },
      "source": [
        "sns.distplot(df.revenue)"
      ],
      "execution_count": 0,
      "outputs": [
        {
          "output_type": "execute_result",
          "data": {
            "text/plain": [
              "<matplotlib.axes._subplots.AxesSubplot at 0x7f3923a16630>"
            ]
          },
          "metadata": {
            "tags": []
          },
          "execution_count": 62
        },
        {
          "output_type": "display_data",
          "data": {
            "image/png": "[encoded data removed]",
            "text/plain": [
              "<Figure size 432x288 with 1 Axes>"
            ]
          },
          "metadata": {
            "tags": []
          }
        }
      ]
    },
    {
      "cell_type": "code",
      "metadata": {
        "id": "PxMbSDo9ntnT",
        "colab_type": "code",
        "outputId": "601d9e53-0f69-48f4-8c0c-6e64f03e3353",
        "colab": {
          "base_uri": "https://localhost:8080/",
          "height": 308
        }
      },
      "source": [
        "sns.distplot(df.budget)"
      ],
      "execution_count": 0,
      "outputs": [
        {
          "output_type": "execute_result",
          "data": {
            "text/plain": [
              "<matplotlib.axes._subplots.AxesSubplot at 0x7f3927cdc278>"
            ]
          },
          "metadata": {
            "tags": []
          },
          "execution_count": 13
        },
        {
          "output_type": "display_data",
          "data": {
            "image/png": "[encoded data removed]",
            "text/plain": [
              "<Figure size 432x288 with 1 Axes>"
            ]
          },
          "metadata": {
            "tags": []
          }
        }
      ]
    },
    {
      "cell_type": "code",
      "metadata": {
        "id": "J_xavFrAgDbc",
        "colab_type": "code",
        "colab": {}
      },
      "source": [
        "## the revenue and budget are both right skewed. take log transformation to have normal distribution\n",
        "df['originalRevenue'] = df.revenue\n",
        "df.revenue=np.log1p(df.revenue)\n",
        "df['inflationBudget'] = df['budget'] + df['budget']*1.8/100*(2019-df['release_year']) #Inflation simple formula\n",
        "df['budget'] = np.log1p(df['budget']) "
      ],
      "execution_count": 0,
      "outputs": []
    },
    {
      "cell_type": "code",
      "metadata": {
        "id": "SGiw41SsgDbh",
        "colab_type": "code",
        "outputId": "5a98e205-7603-4a31-ca2d-7e51c1cc90c2",
        "colab": {
          "base_uri": "https://localhost:8080/",
          "height": 297
        }
      },
      "source": [
        "sns.distplot(df.revenue)\n",
        "## they look much better now"
      ],
      "execution_count": 0,
      "outputs": [
        {
          "output_type": "execute_result",
          "data": {
            "text/plain": [
              "<matplotlib.axes._subplots.AxesSubplot at 0x7f3921582470>"
            ]
          },
          "metadata": {
            "tags": []
          },
          "execution_count": 65
        },
        {
          "output_type": "display_data",
          "data": {
            "image/png": "[encoded data removed]",
            "text/plain": [
              "<Figure size 432x288 with 1 Axes>"
            ]
          },
          "metadata": {
            "tags": []
          }
        }
      ]
    },
    {
      "cell_type": "code",
      "metadata": {
        "id": "d9W1V0qUo3uO",
        "colab_type": "code",
        "outputId": "0b4e4b05-2dc0-4348-8724-9ce029738324",
        "colab": {
          "base_uri": "https://localhost:8080/",
          "height": 297
        }
      },
      "source": [
        "sns.distplot(df.budget)"
      ],
      "execution_count": 0,
      "outputs": [
        {
          "output_type": "execute_result",
          "data": {
            "text/plain": [
              "<matplotlib.axes._subplots.AxesSubplot at 0x7f3921582d68>"
            ]
          },
          "metadata": {
            "tags": []
          },
          "execution_count": 66
        },
        {
          "output_type": "display_data",
          "data": {
            "image/png": "[encoded data removed]",
            "text/plain": [
              "<Figure size 432x288 with 1 Axes>"
            ]
          },
          "metadata": {
            "tags": []
          }
        }
      ]
    },
    {
      "cell_type": "code",
      "metadata": {
        "id": "0MA38qjb5i98",
        "colab_type": "code",
        "outputId": "a0e0fd88-d98c-4c57-b711-900b810aaa90",
        "colab": {
          "base_uri": "https://localhost:8080/",
          "height": 801
        }
      },
      "source": [
        "## let's see the log(budget) vs log(revenue)\n",
        "sns.jointplot(x=\"budget\", y=\"revenue\", data=df, height=11, ratio=4, color=\"g\")\n",
        "plt.show()\n",
        "## could identify a pretty strong relationship here"
      ],
      "execution_count": 0,
      "outputs": [
        {
          "output_type": "display_data",
          "data": {
            "image/png": "[encoded data removed]",
            "text/plain": [
              "<Figure size 792x792 with 3 Axes>"
            ]
          },
          "metadata": {
            "tags": []
          }
        }
      ]
    },
    {
      "cell_type": "code",
      "metadata": {
        "id": "Bw6buNre7y7_",
        "colab_type": "code",
        "outputId": "3e564c39-2c44-4f30-ef36-850f87507c82",
        "colab": {
          "base_uri": "https://localhost:8080/",
          "height": 627
        }
      },
      "source": [
        "## how is inflation_budget vs time?\n",
        "inflation_budget_year = df.groupby(\"release_year\")[\"inflationBudget\"].aggregate('mean')\n",
        "inflation_budget_year.plot(figsize=(15,10),color=\"g\")\n",
        "plt.xticks(np.arange(1920,2018,4))\n",
        "plt.xlabel(\"Release Year\")\n",
        "plt.ylabel(\"Inflation Budget\")\n",
        "plt.title(\"Movie Mean Inflation_budget By Year\",fontsize=20)\n",
        "plt.show()\n",
        "\n",
        "## after considering inflation factors, the change in budget became less obvious over the years.\n",
        "## the unusual spike in 1924-1928 is because budget were missing in this "
      ],
      "execution_count": 0,
      "outputs": [
        {
          "output_type": "display_data",
          "data": {
            "image/png": "[encoded data removed]",
            "text/plain": [
              "<Figure size 1080x720 with 1 Axes>"
            ]
          },
          "metadata": {
            "tags": []
          }
        }
      ]
    },
    {
      "cell_type": "code",
      "metadata": {
        "id": "3IdJ9qiEgDbq",
        "colab_type": "code",
        "outputId": "244a233c-bf03-4167-d04f-38fc834ac728",
        "colab": {
          "base_uri": "https://localhost:8080/",
          "height": 35
        }
      },
      "source": [
        "## we could see some fields comtain json value instead of comma separated value\n",
        "## deal with these fields\n",
        "json_cols = ['genres', 'production_companies', 'production_countries', 'spoken_languages', 'keywords', 'cast', 'crew']\n",
        "\n",
        "def get_dictionary(s):\n",
        "    try:\n",
        "        d = eval(s)\n",
        "    except:\n",
        "        d = {}\n",
        "    return d\n",
        "\n",
        "for col in tqdm(json_cols) :\n",
        "    df[col] = df[col].apply(lambda x : get_dictionary(x))\n",
        "\n",
        "## count the number of movies in each category    \n",
        "def get_json_dict(df) :\n",
        "    global json_cols\n",
        "    result = dict()\n",
        "    for e_col in json_cols :\n",
        "        d = dict()\n",
        "        rows = df[e_col].values\n",
        "        for row in rows :\n",
        "            if row is None : continue\n",
        "            for i in row :\n",
        "                if i['name'] not in d :\n",
        "                    d[i['name']] = 0\n",
        "                d[i['name']] += 1\n",
        "        result[e_col] = d\n",
        "    return result\n",
        "\n",
        "df_dict = get_json_dict(df)"
      ],
      "execution_count": 0,
      "outputs": [
        {
          "output_type": "stream",
          "text": [
            "100%|██████████| 7/7 [00:04<00:00,  1.01s/it]\n"
          ],
          "name": "stderr"
        }
      ]
    },
    {
      "cell_type": "code",
      "metadata": {
        "id": "TzWsWKkksAOg",
        "colab_type": "code",
        "outputId": "1c7ebe50-de3c-4acc-c15d-e85fa226abb5",
        "colab": {
          "base_uri": "https://localhost:8080/",
          "height": 35
        }
      },
      "source": [
        "len(df_dict[\"genres\"])+len(df_dict[\"production_companies\"])+len(df_dict[\"production_countries\"])+len(df_dict[\"spoken_languages\"])\n",
        "## the number of categorical variables there will be if we dummify without cleaning less frequently show up ones"
      ],
      "execution_count": 0,
      "outputs": [
        {
          "output_type": "execute_result",
          "data": {
            "text/plain": [
              "5144"
            ]
          },
          "metadata": {
            "tags": []
          },
          "execution_count": 70
        }
      ]
    },
    {
      "cell_type": "code",
      "metadata": {
        "id": "xXnDDsmNgDb0",
        "colab_type": "code",
        "colab": {}
      },
      "source": [
        "## there would be too many categorical variables if we dummify each category\n",
        "# remove cateogry with low frequency in the dictionary (count of movies< 15)\n",
        "for col in json_cols :\n",
        "    \n",
        "    remove = []\n",
        "    df_id = set(list(df_dict[col].keys()))\n",
        "    \n",
        "    for i in df_id:\n",
        "        if df_dict[col][i] < 15 or i == '' :\n",
        "            remove += [i]\n",
        "            \n",
        "    for i in remove :\n",
        "        if i in df_dict[col] :\n",
        "            del df_dict[col][i]"
      ],
      "execution_count": 0,
      "outputs": []
    },
    {
      "cell_type": "code",
      "metadata": {
        "id": "Ee0m02OGtH0r",
        "colab_type": "code",
        "outputId": "c89976e9-a2aa-4cb1-fe81-6b918e439161",
        "colab": {
          "base_uri": "https://localhost:8080/",
          "height": 35
        }
      },
      "source": [
        "len(df_dict[\"genres\"])+len(df_dict[\"production_companies\"])+len(df_dict[\"production_countries\"])+len(df_dict[\"spoken_languages\"])\n",
        "## the number of dummy variables after dropping categories that show up less than 15 times."
      ],
      "execution_count": 0,
      "outputs": [
        {
          "output_type": "execute_result",
          "data": {
            "text/plain": [
              "161"
            ]
          },
          "metadata": {
            "tags": []
          },
          "execution_count": 140
        }
      ]
    },
    {
      "cell_type": "code",
      "metadata": {
        "id": "SgCDNQFwgDb9",
        "colab_type": "code",
        "colab": {}
      },
      "source": [
        "## feature engineering\n",
        "# since we are not going to handle natural language in this model, turn the keywords, overviews and titles etc to number of words.\n",
        "df['num_keywords'] = df['keywords'].apply(lambda x: len(x) if x != {} else 0)\n",
        "df['original_title_word_count'] = df['original_title'].str.split().str.len() \n",
        "df['title_word_count'] = df['title_x'].str.split().str.len()\n",
        "df['overview_word_count'] = df['overview'].str.split().str.len()\n",
        "df['tagline_word_count'] = df['tagline'].str.split().str.len()\n",
        "df['cast_count'] = df['cast'].apply(lambda x : len(x))\n",
        "df['crew_count'] = df['crew'].apply(lambda x : len(x))\n",
        "\n",
        "# null value in fields homepage and tagline actually reveals information\n",
        "df['has_homepage'] = 1\n",
        "df.loc[pd.isnull(df['homepage']) ,\"has_homepage\"] = 0\n",
        "    \n",
        "df['has_tagline'] = 1\n",
        "df.loc[pd.isnull(df['tagline']) ,\"has_tagline\"] = 0 \n",
        "\n",
        "df['isOriginalLanguageEng'] = 0 \n",
        "df.loc[ df['original_language'] == \"en\" ,\"isOriginalLanguageEng\"] = 1\n",
        "    \n",
        "#df['isTitleDifferent'] = 1\n",
        "#df.loc[ df['original_title'] == df['title_x'] ,\"isTitleDifferent\"] = 0 \n",
        "    \n",
        "df['production_countries_count'] = df['production_countries'].apply(lambda x : len(x))\n",
        "df['production_companies_count'] = df['production_companies'].apply(lambda x : len(x))\n"
      ],
      "execution_count": 0,
      "outputs": []
    },
    {
      "cell_type": "code",
      "metadata": {
        "id": "yqfJk37K_irh",
        "colab_type": "code",
        "outputId": "6c116b31-b187-4877-a3fd-2ad0ffb0481c",
        "colab": {
          "base_uri": "https://localhost:8080/",
          "height": 374
        }
      },
      "source": [
        "## how's homepage affecting revenue\n",
        "sns.catplot(x=\"has_homepage\", y=\"originalRevenue\", data=df)\n",
        "plt.title('Revenue of movies with and without homepage');\n",
        "## the movie with homepage has higher revenue"
      ],
      "execution_count": 0,
      "outputs": [
        {
          "output_type": "display_data",
          "data": {
            "image/png": "[encoded data removed]",
            "text/plain": [
              "<Figure size 360x360 with 1 Axes>"
            ]
          },
          "metadata": {
            "tags": []
          }
        }
      ]
    },
    {
      "cell_type": "code",
      "metadata": {
        "id": "Z63Kvk4l_2sV",
        "colab_type": "code",
        "outputId": "59d3b95f-ba18-4974-c805-314124b68be4",
        "colab": {
          "base_uri": "https://localhost:8080/",
          "height": 374
        }
      },
      "source": [
        "\n",
        "sns.catplot(x=\"has_tagline\", y=\"originalRevenue\", data=df)\n",
        "plt.title('Revenue of movies with and without a tagline')"
      ],
      "execution_count": 0,
      "outputs": [
        {
          "output_type": "display_data",
          "data": {
            "image/png": "[encoded data removed]",
            "text/plain": [
              "<Figure size 360x360 with 1 Axes>"
            ]
          },
          "metadata": {
            "tags": []
          }
        }
      ]
    },
    {
      "cell_type": "code",
      "metadata": {
        "id": "sEiENxTHAZ9-",
        "colab_type": "code",
        "outputId": "dd2d8b39-2340-40df-9e03-97928886136b",
        "colab": {
          "base_uri": "https://localhost:8080/",
          "height": 374
        }
      },
      "source": [
        "sns.catplot(x=\"isOriginalLanguageEng\", y=\"originalRevenue\", data=df)\n",
        "plt.title('Revenue of movies when Original Language is English and Not English');"
      ],
      "execution_count": 0,
      "outputs": [
        {
          "output_type": "display_data",
          "data": {
            "image/png": "[encoded data removed]",
            "text/plain": [
              "<Figure size 360x360 with 1 Axes>"
            ]
          },
          "metadata": {
            "tags": []
          }
        }
      ]
    },
    {
      "cell_type": "code",
      "metadata": {
        "id": "RKXaG3bzAjHs",
        "colab_type": "code",
        "outputId": "78663637-0253-4b84-c107-0cbd4a7cb9d9",
        "colab": {
          "base_uri": "https://localhost:8080/",
          "height": 756
        }
      },
      "source": [
        "plt.figure(figsize=(20,12))\n",
        "sns.countplot(df.vote_average.sort_values())\n",
        "plt.title(\"Vote Average\",fontsize=20)\n",
        "plt.show()"
      ],
      "execution_count": 0,
      "outputs": [
        {
          "output_type": "display_data",
          "data": {
            "image/png": "[encoded data removed]",
            "text/plain": [
              "<Figure size 1440x864 with 1 Axes>"
            ]
          },
          "metadata": {
            "tags": []
          }
        }
      ]
    },
    {
      "cell_type": "code",
      "metadata": {
        "id": "tutLQ-MTAv5O",
        "colab_type": "code",
        "outputId": "560cbdc8-59b4-4b71-8cf1-31482395bbf2",
        "colab": {
          "base_uri": "https://localhost:8080/",
          "height": 627
        }
      },
      "source": [
        "revenue_by_vote_average = df.groupby(\"vote_average\")[\"originalRevenue\"].aggregate('mean')\n",
        "revenue_by_vote_average.plot(figsize=(15,10),color=\"g\")\n",
        "plt.xlabel(\"Rating\")\n",
        "plt.ylabel(\"Revenue\")\n",
        "plt.title(\"Movie Mean Revenue By Rating\",fontsize=20)\n",
        "plt.show()"
      ],
      "execution_count": 0,
      "outputs": [
        {
          "output_type": "display_data",
          "data": {
            "image/png": "[encoded data removed]",
            "text/plain": [
              "<Figure size 1080x720 with 1 Axes>"
            ]
          },
          "metadata": {
            "tags": []
          }
        }
      ]
    },
    {
      "cell_type": "code",
      "metadata": {
        "id": "CI7chCyWQ7h7",
        "colab_type": "code",
        "outputId": "dcb4b76f-1d79-44ea-8161-2f69ea5a47ad",
        "colab": {
          "base_uri": "https://localhost:8080/",
          "height": 423
        }
      },
      "source": [
        "## before dummyfying categorical variables wee need to see the correlation of numeric variables\n",
        "## to decide if there are any variables to drop\n",
        "## see the correlation heatmap\n",
        "cor = df[[\"budget\",\"popularity\",\"revenue\",\"vote_count\",\"inflationBudget\",\"num_keywords\",'original_title_word_count', 'title_word_count', 'overview_word_count','tagline_word_count', 'cast_count', 'crew_count','production_countries_count', 'production_companies_count']].corr()\n",
        "sns.heatmap(cor, xticklabels=cor.columns,yticklabels=cor.columns)"
      ],
      "execution_count": 0,
      "outputs": [
        {
          "output_type": "execute_result",
          "data": {
            "text/plain": [
              "<matplotlib.axes._subplots.AxesSubplot at 0x7f466344a358>"
            ]
          },
          "metadata": {
            "tags": []
          },
          "execution_count": 108
        },
        {
          "output_type": "display_data",
          "data": {
            "image/png": "[encoded data removed]",
            "text/plain": [
              "<Figure size 432x288 with 2 Axes>"
            ]
          },
          "metadata": {
            "tags": []
          }
        }
      ]
    },
    {
      "cell_type": "code",
      "metadata": {
        "id": "Rtcy-tkTgDb_",
        "colab_type": "code",
        "outputId": "958d5ad0-7288-44ec-f7fa-4b8fdd6b5204",
        "colab": {
          "base_uri": "https://localhost:8080/",
          "height": 233
        }
      },
      "source": [
        "df.columns"
      ],
      "execution_count": 0,
      "outputs": [
        {
          "output_type": "execute_result",
          "data": {
            "text/plain": [
              "Index(['movie_id', 'title_x', 'cast', 'crew', 'budget', 'genres', 'homepage',\n",
              "       'keywords', 'original_language', 'original_title', 'overview',\n",
              "       'popularity', 'production_companies', 'production_countries',\n",
              "       'release_date', 'revenue', 'runtime', 'spoken_languages', 'status',\n",
              "       'tagline', 'vote_average', 'vote_count', 'release_year',\n",
              "       'release_month', 'release_day', 'release_dayofweek', 'release_quarter',\n",
              "       'inflationBudget', 'num_keywords', 'original_title_word_count',\n",
              "       'title_word_count', 'overview_word_count', 'tagline_word_count',\n",
              "       'cast_count', 'crew_count', 'has_homepage', 'isTaglineNA',\n",
              "       'isOriginalLanguageEng', 'isTitleDifferent',\n",
              "       'production_countries_count', 'production_companies_count'],\n",
              "      dtype='object')"
            ]
          },
          "metadata": {
            "tags": []
          },
          "execution_count": 13
        }
      ]
    },
    {
      "cell_type": "code",
      "metadata": {
        "id": "UaXLylXtgDcC",
        "colab_type": "code",
        "colab": {}
      },
      "source": [
        "## apply the clean categories and dummify\n",
        "for col in ['genres', 'production_countries', 'spoken_languages', 'production_companies'] :\n",
        "        df[col] = df[col].map(lambda x: sorted(list(set([n if n in df_dict[col] else col+'_etc' for n in [d['name'] for d in x]])))).map(lambda x: ','.join(map(str, x)))\n",
        "        temp = df[col].str.get_dummies(sep=',')\n",
        "        df = pd.concat([df, temp], axis=1, sort=False)\n"
      ],
      "execution_count": 0,
      "outputs": []
    },
    {
      "cell_type": "code",
      "metadata": {
        "id": "Pes7gz0dgDcD",
        "colab_type": "code",
        "colab": {}
      },
      "source": [
        "## since popularity,vote_count and vote_average couldn't be obtained before movies are released, we will remove it from the predictors.\n",
        "## remove text fields as well (genres, homepage, overview ...)\n",
        "df = df.drop(df[df.vote_average == \"2015/6/26\"].index)\n",
        "popularity = df.popularity.values;\n",
        "release_dates = df.release_date.values;\n",
        "df = df.drop(['movie_id','genres','homepage','overview','runtime'\n",
        "    ,'production_companies','production_countries','release_date','spoken_languages','vote_average','vote_count'\n",
        "    ,'status','title_x','keywords','cast','crew','original_language','original_title','tagline','popularity','originalRevenue'],axis=1)"
      ],
      "execution_count": 0,
      "outputs": []
    },
    {
      "cell_type": "code",
      "metadata": {
        "id": "Rird9RzDgDcF",
        "colab_type": "code",
        "outputId": "daf2315d-ec66-48e2-db10-dcec9a86ac9a",
        "colab": {
          "base_uri": "https://localhost:8080/",
          "height": 179
        }
      },
      "source": [
        "df.columns"
      ],
      "execution_count": 0,
      "outputs": [
        {
          "output_type": "execute_result",
          "data": {
            "text/plain": [
              "Index(['budget', 'revenue', 'vote_average', 'vote_count', 'release_year',\n",
              "       'release_month', 'release_day', 'release_dayofweek', 'release_quarter',\n",
              "       'inflationBudget',\n",
              "       ...\n",
              "       'United Artists', 'Universal Pictures', 'Vertigo Entertainment',\n",
              "       'Village Roadshow Pictures', 'Walden Media', 'Walt Disney Pictures',\n",
              "       'Warner Bros.', 'Wild Bunch', 'Working Title Films',\n",
              "       'production_companies_etc'],\n",
              "      dtype='object', length=187)"
            ]
          },
          "metadata": {
            "tags": []
          },
          "execution_count": 81
        }
      ]
    },
    {
      "cell_type": "code",
      "metadata": {
        "id": "ps2NZOV3gDcI",
        "colab_type": "code",
        "colab": {}
      },
      "source": [
        "df.fillna(value=0,inplace=True)"
      ],
      "execution_count": 0,
      "outputs": []
    },
    {
      "cell_type": "code",
      "metadata": {
        "id": "Qmp0wWv_TdqS",
        "colab_type": "code",
        "colab": {}
      },
      "source": [
        "## train test split\n",
        "## calculate the test amount needed."
      ],
      "execution_count": 0,
      "outputs": []
    },
    {
      "cell_type": "code",
      "metadata": {
        "id": "JWrB4JySgDcM",
        "colab_type": "code",
        "colab": {}
      },
      "source": [
        "## train test split\n",
        "from sklearn.model_selection import train_test_split\n",
        "y=df.revenue.values\n",
        "df=df.drop(['revenue'],axis=1)\n",
        "xtrain,xtest,ytrain,ytest,train_date,test_date=train_test_split(df,y,release_dates,train_size=0.7,random_state=0,shuffle=True)"
      ],
      "execution_count": 0,
      "outputs": []
    },
    {
      "cell_type": "code",
      "metadata": {
        "id": "cGZNgW4RgDcQ",
        "colab_type": "code",
        "outputId": "6814c779-1614-4c1b-bac0-ff18ea6128bc",
        "colab": {
          "base_uri": "https://localhost:8080/",
          "height": 89
        }
      },
      "source": [
        "print(xtrain.shape)\n",
        "print(xtest.shape)\n",
        "print(ytrain.shape)\n",
        "print(ytest.shape)"
      ],
      "execution_count": 0,
      "outputs": [
        {
          "output_type": "stream",
          "text": [
            "(3343, 184)\n",
            "(1434, 184)\n",
            "(3343,)\n",
            "(1434,)\n"
          ],
          "name": "stdout"
        }
      ]
    },
    {
      "cell_type": "code",
      "metadata": {
        "id": "shQRIaHBgDcU",
        "colab_type": "code",
        "outputId": "1e56b429-a9ab-4cd7-de11-1d0a3db846a2",
        "colab": {
          "base_uri": "https://localhost:8080/",
          "height": 763
        }
      },
      "source": [
        "xtrain.head(20)"
      ],
      "execution_count": 0,
      "outputs": [
        {
          "output_type": "execute_result",
          "data": {
            "text/html": [
              "<div>\n",
              "<style scoped>\n",
              "    .dataframe tbody tr th:only-of-type {\n",
              "        vertical-align: middle;\n",
              "    }\n",
              "\n",
              "    .dataframe tbody tr th {\n",
              "        vertical-align: top;\n",
              "    }\n",
              "\n",
              "    .dataframe thead th {\n",
              "        text-align: right;\n",
              "    }\n",
              "</style>\n",
              "<table border=\"1\" class=\"dataframe\">\n",
              "  <thead>\n",
              "    <tr style=\"text-align: right;\">\n",
              "      <th></th>\n",
              "      <th>budget</th>\n",
              "      <th>release_year</th>\n",
              "      <th>release_month</th>\n",
              "      <th>release_day</th>\n",
              "      <th>release_dayofweek</th>\n",
              "      <th>release_quarter</th>\n",
              "      <th>inflationBudget</th>\n",
              "      <th>num_keywords</th>\n",
              "      <th>original_title_word_count</th>\n",
              "      <th>title_word_count</th>\n",
              "      <th>overview_word_count</th>\n",
              "      <th>tagline_word_count</th>\n",
              "      <th>cast_count</th>\n",
              "      <th>crew_count</th>\n",
              "      <th>has_homepage</th>\n",
              "      <th>has_tagline</th>\n",
              "      <th>isOriginalLanguageEng</th>\n",
              "      <th>production_countries_count</th>\n",
              "      <th>production_companies_count</th>\n",
              "      <th>Action</th>\n",
              "      <th>Adventure</th>\n",
              "      <th>Animation</th>\n",
              "      <th>Comedy</th>\n",
              "      <th>Crime</th>\n",
              "      <th>Documentary</th>\n",
              "      <th>Drama</th>\n",
              "      <th>Family</th>\n",
              "      <th>Fantasy</th>\n",
              "      <th>Foreign</th>\n",
              "      <th>History</th>\n",
              "      <th>Horror</th>\n",
              "      <th>Music</th>\n",
              "      <th>Mystery</th>\n",
              "      <th>Romance</th>\n",
              "      <th>Science Fiction</th>\n",
              "      <th>Thriller</th>\n",
              "      <th>War</th>\n",
              "      <th>Western</th>\n",
              "      <th>genres_etc</th>\n",
              "      <th>Australia</th>\n",
              "      <th>...</th>\n",
              "      <th>New Regency Pictures</th>\n",
              "      <th>Nickelodeon Movies</th>\n",
              "      <th>Original Film</th>\n",
              "      <th>Orion Pictures</th>\n",
              "      <th>Paramount Pictures</th>\n",
              "      <th>Participant Media</th>\n",
              "      <th>Phoenix Pictures</th>\n",
              "      <th>Pixar Animation Studios</th>\n",
              "      <th>PolyGram Filmed Entertainment</th>\n",
              "      <th>Regency Enterprises</th>\n",
              "      <th>Relativity Media</th>\n",
              "      <th>Revolution Studios</th>\n",
              "      <th>Revolution Sun Studios</th>\n",
              "      <th>Scott Free Productions</th>\n",
              "      <th>Scott Rudin Productions</th>\n",
              "      <th>Screen Gems</th>\n",
              "      <th>Silver Pictures</th>\n",
              "      <th>Sony Pictures Classics</th>\n",
              "      <th>Spyglass Entertainment</th>\n",
              "      <th>Studio Babelsberg</th>\n",
              "      <th>Studio Canal</th>\n",
              "      <th>StudioCanal</th>\n",
              "      <th>Summit Entertainment</th>\n",
              "      <th>TF1 Films Production</th>\n",
              "      <th>TSG Entertainment</th>\n",
              "      <th>The Weinstein Company</th>\n",
              "      <th>Touchstone Pictures</th>\n",
              "      <th>TriStar Pictures</th>\n",
              "      <th>Twentieth Century Fox Film Corporation</th>\n",
              "      <th>UK Film Council</th>\n",
              "      <th>United Artists</th>\n",
              "      <th>Universal Pictures</th>\n",
              "      <th>Vertigo Entertainment</th>\n",
              "      <th>Village Roadshow Pictures</th>\n",
              "      <th>Walden Media</th>\n",
              "      <th>Walt Disney Pictures</th>\n",
              "      <th>Warner Bros.</th>\n",
              "      <th>Wild Bunch</th>\n",
              "      <th>Working Title Films</th>\n",
              "      <th>production_companies_etc</th>\n",
              "    </tr>\n",
              "  </thead>\n",
              "  <tbody>\n",
              "    <tr>\n",
              "      <th>996</th>\n",
              "      <td>17.727534</td>\n",
              "      <td>2016</td>\n",
              "      <td>2</td>\n",
              "      <td>6</td>\n",
              "      <td>5</td>\n",
              "      <td>1</td>\n",
              "      <td>52700000.0</td>\n",
              "      <td>6</td>\n",
              "      <td>2</td>\n",
              "      <td>2</td>\n",
              "      <td>18.0</td>\n",
              "      <td>4.0</td>\n",
              "      <td>124</td>\n",
              "      <td>17</td>\n",
              "      <td>1</td>\n",
              "      <td>1</td>\n",
              "      <td>1</td>\n",
              "      <td>1</td>\n",
              "      <td>2</td>\n",
              "      <td>0</td>\n",
              "      <td>0</td>\n",
              "      <td>0</td>\n",
              "      <td>1</td>\n",
              "      <td>0</td>\n",
              "      <td>0</td>\n",
              "      <td>0</td>\n",
              "      <td>0</td>\n",
              "      <td>0</td>\n",
              "      <td>0</td>\n",
              "      <td>0</td>\n",
              "      <td>0</td>\n",
              "      <td>0</td>\n",
              "      <td>0</td>\n",
              "      <td>0</td>\n",
              "      <td>0</td>\n",
              "      <td>0</td>\n",
              "      <td>0</td>\n",
              "      <td>0</td>\n",
              "      <td>0</td>\n",
              "      <td>0</td>\n",
              "      <td>...</td>\n",
              "      <td>0</td>\n",
              "      <td>0</td>\n",
              "      <td>0</td>\n",
              "      <td>0</td>\n",
              "      <td>0</td>\n",
              "      <td>0</td>\n",
              "      <td>0</td>\n",
              "      <td>0</td>\n",
              "      <td>0</td>\n",
              "      <td>0</td>\n",
              "      <td>0</td>\n",
              "      <td>0</td>\n",
              "      <td>0</td>\n",
              "      <td>0</td>\n",
              "      <td>1</td>\n",
              "      <td>0</td>\n",
              "      <td>0</td>\n",
              "      <td>0</td>\n",
              "      <td>0</td>\n",
              "      <td>0</td>\n",
              "      <td>0</td>\n",
              "      <td>0</td>\n",
              "      <td>0</td>\n",
              "      <td>0</td>\n",
              "      <td>0</td>\n",
              "      <td>0</td>\n",
              "      <td>0</td>\n",
              "      <td>0</td>\n",
              "      <td>0</td>\n",
              "      <td>0</td>\n",
              "      <td>0</td>\n",
              "      <td>0</td>\n",
              "      <td>0</td>\n",
              "      <td>0</td>\n",
              "      <td>0</td>\n",
              "      <td>0</td>\n",
              "      <td>0</td>\n",
              "      <td>0</td>\n",
              "      <td>0</td>\n",
              "      <td>1</td>\n",
              "    </tr>\n",
              "    <tr>\n",
              "      <th>346</th>\n",
              "      <td>18.420681</td>\n",
              "      <td>2009</td>\n",
              "      <td>9</td>\n",
              "      <td>17</td>\n",
              "      <td>3</td>\n",
              "      <td>3</td>\n",
              "      <td>118000000.0</td>\n",
              "      <td>3</td>\n",
              "      <td>6</td>\n",
              "      <td>6</td>\n",
              "      <td>54.0</td>\n",
              "      <td>4.0</td>\n",
              "      <td>41</td>\n",
              "      <td>21</td>\n",
              "      <td>1</td>\n",
              "      <td>1</td>\n",
              "      <td>1</td>\n",
              "      <td>1</td>\n",
              "      <td>2</td>\n",
              "      <td>0</td>\n",
              "      <td>0</td>\n",
              "      <td>1</td>\n",
              "      <td>1</td>\n",
              "      <td>0</td>\n",
              "      <td>0</td>\n",
              "      <td>0</td>\n",
              "      <td>1</td>\n",
              "      <td>0</td>\n",
              "      <td>0</td>\n",
              "      <td>0</td>\n",
              "      <td>0</td>\n",
              "      <td>0</td>\n",
              "      <td>0</td>\n",
              "      <td>0</td>\n",
              "      <td>0</td>\n",
              "      <td>0</td>\n",
              "      <td>0</td>\n",
              "      <td>0</td>\n",
              "      <td>0</td>\n",
              "      <td>0</td>\n",
              "      <td>...</td>\n",
              "      <td>0</td>\n",
              "      <td>0</td>\n",
              "      <td>0</td>\n",
              "      <td>0</td>\n",
              "      <td>0</td>\n",
              "      <td>0</td>\n",
              "      <td>0</td>\n",
              "      <td>0</td>\n",
              "      <td>0</td>\n",
              "      <td>0</td>\n",
              "      <td>0</td>\n",
              "      <td>0</td>\n",
              "      <td>0</td>\n",
              "      <td>0</td>\n",
              "      <td>0</td>\n",
              "      <td>0</td>\n",
              "      <td>0</td>\n",
              "      <td>0</td>\n",
              "      <td>0</td>\n",
              "      <td>0</td>\n",
              "      <td>0</td>\n",
              "      <td>0</td>\n",
              "      <td>0</td>\n",
              "      <td>0</td>\n",
              "      <td>0</td>\n",
              "      <td>0</td>\n",
              "      <td>0</td>\n",
              "      <td>0</td>\n",
              "      <td>0</td>\n",
              "      <td>0</td>\n",
              "      <td>0</td>\n",
              "      <td>0</td>\n",
              "      <td>0</td>\n",
              "      <td>0</td>\n",
              "      <td>0</td>\n",
              "      <td>0</td>\n",
              "      <td>0</td>\n",
              "      <td>0</td>\n",
              "      <td>0</td>\n",
              "      <td>1</td>\n",
              "    </tr>\n",
              "    <tr>\n",
              "      <th>558</th>\n",
              "      <td>18.092177</td>\n",
              "      <td>2001</td>\n",
              "      <td>12</td>\n",
              "      <td>21</td>\n",
              "      <td>4</td>\n",
              "      <td>4</td>\n",
              "      <td>95328000.0</td>\n",
              "      <td>6</td>\n",
              "      <td>2</td>\n",
              "      <td>2</td>\n",
              "      <td>30.0</td>\n",
              "      <td>11.0</td>\n",
              "      <td>17</td>\n",
              "      <td>28</td>\n",
              "      <td>0</td>\n",
              "      <td>1</td>\n",
              "      <td>1</td>\n",
              "      <td>1</td>\n",
              "      <td>4</td>\n",
              "      <td>0</td>\n",
              "      <td>0</td>\n",
              "      <td>0</td>\n",
              "      <td>0</td>\n",
              "      <td>0</td>\n",
              "      <td>0</td>\n",
              "      <td>1</td>\n",
              "      <td>0</td>\n",
              "      <td>0</td>\n",
              "      <td>0</td>\n",
              "      <td>0</td>\n",
              "      <td>0</td>\n",
              "      <td>0</td>\n",
              "      <td>0</td>\n",
              "      <td>1</td>\n",
              "      <td>0</td>\n",
              "      <td>0</td>\n",
              "      <td>0</td>\n",
              "      <td>0</td>\n",
              "      <td>0</td>\n",
              "      <td>0</td>\n",
              "      <td>...</td>\n",
              "      <td>0</td>\n",
              "      <td>0</td>\n",
              "      <td>0</td>\n",
              "      <td>0</td>\n",
              "      <td>0</td>\n",
              "      <td>0</td>\n",
              "      <td>0</td>\n",
              "      <td>0</td>\n",
              "      <td>0</td>\n",
              "      <td>0</td>\n",
              "      <td>0</td>\n",
              "      <td>0</td>\n",
              "      <td>0</td>\n",
              "      <td>0</td>\n",
              "      <td>0</td>\n",
              "      <td>0</td>\n",
              "      <td>0</td>\n",
              "      <td>0</td>\n",
              "      <td>0</td>\n",
              "      <td>0</td>\n",
              "      <td>0</td>\n",
              "      <td>0</td>\n",
              "      <td>0</td>\n",
              "      <td>0</td>\n",
              "      <td>0</td>\n",
              "      <td>0</td>\n",
              "      <td>0</td>\n",
              "      <td>0</td>\n",
              "      <td>0</td>\n",
              "      <td>0</td>\n",
              "      <td>0</td>\n",
              "      <td>0</td>\n",
              "      <td>0</td>\n",
              "      <td>1</td>\n",
              "      <td>0</td>\n",
              "      <td>0</td>\n",
              "      <td>0</td>\n",
              "      <td>0</td>\n",
              "      <td>0</td>\n",
              "      <td>1</td>\n",
              "    </tr>\n",
              "    <tr>\n",
              "      <th>3903</th>\n",
              "      <td>16.523561</td>\n",
              "      <td>2002</td>\n",
              "      <td>1</td>\n",
              "      <td>1</td>\n",
              "      <td>1</td>\n",
              "      <td>1</td>\n",
              "      <td>19590000.0</td>\n",
              "      <td>2</td>\n",
              "      <td>4</td>\n",
              "      <td>4</td>\n",
              "      <td>125.0</td>\n",
              "      <td>0.0</td>\n",
              "      <td>7</td>\n",
              "      <td>1</td>\n",
              "      <td>0</td>\n",
              "      <td>0</td>\n",
              "      <td>1</td>\n",
              "      <td>0</td>\n",
              "      <td>0</td>\n",
              "      <td>0</td>\n",
              "      <td>0</td>\n",
              "      <td>0</td>\n",
              "      <td>1</td>\n",
              "      <td>0</td>\n",
              "      <td>0</td>\n",
              "      <td>1</td>\n",
              "      <td>0</td>\n",
              "      <td>0</td>\n",
              "      <td>0</td>\n",
              "      <td>0</td>\n",
              "      <td>0</td>\n",
              "      <td>0</td>\n",
              "      <td>0</td>\n",
              "      <td>0</td>\n",
              "      <td>0</td>\n",
              "      <td>0</td>\n",
              "      <td>0</td>\n",
              "      <td>0</td>\n",
              "      <td>0</td>\n",
              "      <td>0</td>\n",
              "      <td>...</td>\n",
              "      <td>0</td>\n",
              "      <td>0</td>\n",
              "      <td>0</td>\n",
              "      <td>0</td>\n",
              "      <td>0</td>\n",
              "      <td>0</td>\n",
              "      <td>0</td>\n",
              "      <td>0</td>\n",
              "      <td>0</td>\n",
              "      <td>0</td>\n",
              "      <td>0</td>\n",
              "      <td>0</td>\n",
              "      <td>0</td>\n",
              "      <td>0</td>\n",
              "      <td>0</td>\n",
              "      <td>0</td>\n",
              "      <td>0</td>\n",
              "      <td>0</td>\n",
              "      <td>0</td>\n",
              "      <td>0</td>\n",
              "      <td>0</td>\n",
              "      <td>0</td>\n",
              "      <td>0</td>\n",
              "      <td>0</td>\n",
              "      <td>0</td>\n",
              "      <td>0</td>\n",
              "      <td>0</td>\n",
              "      <td>0</td>\n",
              "      <td>0</td>\n",
              "      <td>0</td>\n",
              "      <td>0</td>\n",
              "      <td>0</td>\n",
              "      <td>0</td>\n",
              "      <td>0</td>\n",
              "      <td>0</td>\n",
              "      <td>0</td>\n",
              "      <td>0</td>\n",
              "      <td>0</td>\n",
              "      <td>0</td>\n",
              "      <td>0</td>\n",
              "    </tr>\n",
              "    <tr>\n",
              "      <th>1480</th>\n",
              "      <td>17.312018</td>\n",
              "      <td>2006</td>\n",
              "      <td>8</td>\n",
              "      <td>6</td>\n",
              "      <td>6</td>\n",
              "      <td>3</td>\n",
              "      <td>40722000.0</td>\n",
              "      <td>10</td>\n",
              "      <td>4</td>\n",
              "      <td>4</td>\n",
              "      <td>35.0</td>\n",
              "      <td>11.0</td>\n",
              "      <td>19</td>\n",
              "      <td>19</td>\n",
              "      <td>0</td>\n",
              "      <td>1</td>\n",
              "      <td>1</td>\n",
              "      <td>1</td>\n",
              "      <td>1</td>\n",
              "      <td>1</td>\n",
              "      <td>0</td>\n",
              "      <td>0</td>\n",
              "      <td>0</td>\n",
              "      <td>1</td>\n",
              "      <td>0</td>\n",
              "      <td>0</td>\n",
              "      <td>0</td>\n",
              "      <td>0</td>\n",
              "      <td>0</td>\n",
              "      <td>0</td>\n",
              "      <td>1</td>\n",
              "      <td>0</td>\n",
              "      <td>0</td>\n",
              "      <td>0</td>\n",
              "      <td>0</td>\n",
              "      <td>1</td>\n",
              "      <td>0</td>\n",
              "      <td>0</td>\n",
              "      <td>0</td>\n",
              "      <td>0</td>\n",
              "      <td>...</td>\n",
              "      <td>0</td>\n",
              "      <td>0</td>\n",
              "      <td>0</td>\n",
              "      <td>0</td>\n",
              "      <td>0</td>\n",
              "      <td>0</td>\n",
              "      <td>0</td>\n",
              "      <td>0</td>\n",
              "      <td>0</td>\n",
              "      <td>0</td>\n",
              "      <td>0</td>\n",
              "      <td>0</td>\n",
              "      <td>0</td>\n",
              "      <td>0</td>\n",
              "      <td>0</td>\n",
              "      <td>0</td>\n",
              "      <td>0</td>\n",
              "      <td>0</td>\n",
              "      <td>0</td>\n",
              "      <td>0</td>\n",
              "      <td>0</td>\n",
              "      <td>0</td>\n",
              "      <td>0</td>\n",
              "      <td>0</td>\n",
              "      <td>0</td>\n",
              "      <td>0</td>\n",
              "      <td>0</td>\n",
              "      <td>0</td>\n",
              "      <td>0</td>\n",
              "      <td>0</td>\n",
              "      <td>0</td>\n",
              "      <td>0</td>\n",
              "      <td>0</td>\n",
              "      <td>0</td>\n",
              "      <td>0</td>\n",
              "      <td>0</td>\n",
              "      <td>0</td>\n",
              "      <td>0</td>\n",
              "      <td>0</td>\n",
              "      <td>0</td>\n",
              "    </tr>\n",
              "    <tr>\n",
              "      <th>2310</th>\n",
              "      <td>16.648724</td>\n",
              "      <td>1999</td>\n",
              "      <td>12</td>\n",
              "      <td>10</td>\n",
              "      <td>4</td>\n",
              "      <td>4</td>\n",
              "      <td>23120000.0</td>\n",
              "      <td>7</td>\n",
              "      <td>4</td>\n",
              "      <td>4</td>\n",
              "      <td>77.0</td>\n",
              "      <td>8.0</td>\n",
              "      <td>16</td>\n",
              "      <td>7</td>\n",
              "      <td>0</td>\n",
              "      <td>1</td>\n",
              "      <td>1</td>\n",
              "      <td>1</td>\n",
              "      <td>3</td>\n",
              "      <td>0</td>\n",
              "      <td>0</td>\n",
              "      <td>0</td>\n",
              "      <td>1</td>\n",
              "      <td>0</td>\n",
              "      <td>0</td>\n",
              "      <td>0</td>\n",
              "      <td>0</td>\n",
              "      <td>0</td>\n",
              "      <td>0</td>\n",
              "      <td>0</td>\n",
              "      <td>0</td>\n",
              "      <td>0</td>\n",
              "      <td>0</td>\n",
              "      <td>0</td>\n",
              "      <td>0</td>\n",
              "      <td>0</td>\n",
              "      <td>0</td>\n",
              "      <td>0</td>\n",
              "      <td>0</td>\n",
              "      <td>0</td>\n",
              "      <td>...</td>\n",
              "      <td>0</td>\n",
              "      <td>0</td>\n",
              "      <td>0</td>\n",
              "      <td>0</td>\n",
              "      <td>0</td>\n",
              "      <td>0</td>\n",
              "      <td>0</td>\n",
              "      <td>0</td>\n",
              "      <td>0</td>\n",
              "      <td>0</td>\n",
              "      <td>0</td>\n",
              "      <td>0</td>\n",
              "      <td>0</td>\n",
              "      <td>0</td>\n",
              "      <td>0</td>\n",
              "      <td>0</td>\n",
              "      <td>0</td>\n",
              "      <td>0</td>\n",
              "      <td>0</td>\n",
              "      <td>0</td>\n",
              "      <td>0</td>\n",
              "      <td>0</td>\n",
              "      <td>0</td>\n",
              "      <td>0</td>\n",
              "      <td>0</td>\n",
              "      <td>0</td>\n",
              "      <td>1</td>\n",
              "      <td>0</td>\n",
              "      <td>0</td>\n",
              "      <td>0</td>\n",
              "      <td>0</td>\n",
              "      <td>0</td>\n",
              "      <td>0</td>\n",
              "      <td>0</td>\n",
              "      <td>0</td>\n",
              "      <td>0</td>\n",
              "      <td>0</td>\n",
              "      <td>0</td>\n",
              "      <td>0</td>\n",
              "      <td>1</td>\n",
              "    </tr>\n",
              "    <tr>\n",
              "      <th>4085</th>\n",
              "      <td>14.508658</td>\n",
              "      <td>2007</td>\n",
              "      <td>7</td>\n",
              "      <td>27</td>\n",
              "      <td>4</td>\n",
              "      <td>3</td>\n",
              "      <td>2432000.0</td>\n",
              "      <td>7</td>\n",
              "      <td>4</td>\n",
              "      <td>4</td>\n",
              "      <td>59.0</td>\n",
              "      <td>12.0</td>\n",
              "      <td>4</td>\n",
              "      <td>2</td>\n",
              "      <td>1</td>\n",
              "      <td>1</td>\n",
              "      <td>1</td>\n",
              "      <td>0</td>\n",
              "      <td>0</td>\n",
              "      <td>0</td>\n",
              "      <td>0</td>\n",
              "      <td>0</td>\n",
              "      <td>0</td>\n",
              "      <td>0</td>\n",
              "      <td>1</td>\n",
              "      <td>0</td>\n",
              "      <td>0</td>\n",
              "      <td>0</td>\n",
              "      <td>0</td>\n",
              "      <td>0</td>\n",
              "      <td>0</td>\n",
              "      <td>0</td>\n",
              "      <td>0</td>\n",
              "      <td>0</td>\n",
              "      <td>0</td>\n",
              "      <td>0</td>\n",
              "      <td>0</td>\n",
              "      <td>0</td>\n",
              "      <td>0</td>\n",
              "      <td>0</td>\n",
              "      <td>...</td>\n",
              "      <td>0</td>\n",
              "      <td>0</td>\n",
              "      <td>0</td>\n",
              "      <td>0</td>\n",
              "      <td>0</td>\n",
              "      <td>0</td>\n",
              "      <td>0</td>\n",
              "      <td>0</td>\n",
              "      <td>0</td>\n",
              "      <td>0</td>\n",
              "      <td>0</td>\n",
              "      <td>0</td>\n",
              "      <td>0</td>\n",
              "      <td>0</td>\n",
              "      <td>0</td>\n",
              "      <td>0</td>\n",
              "      <td>0</td>\n",
              "      <td>0</td>\n",
              "      <td>0</td>\n",
              "      <td>0</td>\n",
              "      <td>0</td>\n",
              "      <td>0</td>\n",
              "      <td>0</td>\n",
              "      <td>0</td>\n",
              "      <td>0</td>\n",
              "      <td>0</td>\n",
              "      <td>0</td>\n",
              "      <td>0</td>\n",
              "      <td>0</td>\n",
              "      <td>0</td>\n",
              "      <td>0</td>\n",
              "      <td>0</td>\n",
              "      <td>0</td>\n",
              "      <td>0</td>\n",
              "      <td>0</td>\n",
              "      <td>0</td>\n",
              "      <td>0</td>\n",
              "      <td>0</td>\n",
              "      <td>0</td>\n",
              "      <td>0</td>\n",
              "    </tr>\n",
              "    <tr>\n",
              "      <th>2939</th>\n",
              "      <td>16.523561</td>\n",
              "      <td>2001</td>\n",
              "      <td>8</td>\n",
              "      <td>31</td>\n",
              "      <td>4</td>\n",
              "      <td>3</td>\n",
              "      <td>19860000.0</td>\n",
              "      <td>9</td>\n",
              "      <td>1</td>\n",
              "      <td>1</td>\n",
              "      <td>54.0</td>\n",
              "      <td>3.0</td>\n",
              "      <td>10</td>\n",
              "      <td>17</td>\n",
              "      <td>0</td>\n",
              "      <td>1</td>\n",
              "      <td>1</td>\n",
              "      <td>1</td>\n",
              "      <td>4</td>\n",
              "      <td>0</td>\n",
              "      <td>0</td>\n",
              "      <td>0</td>\n",
              "      <td>0</td>\n",
              "      <td>0</td>\n",
              "      <td>0</td>\n",
              "      <td>1</td>\n",
              "      <td>0</td>\n",
              "      <td>0</td>\n",
              "      <td>0</td>\n",
              "      <td>0</td>\n",
              "      <td>0</td>\n",
              "      <td>0</td>\n",
              "      <td>0</td>\n",
              "      <td>1</td>\n",
              "      <td>0</td>\n",
              "      <td>1</td>\n",
              "      <td>0</td>\n",
              "      <td>0</td>\n",
              "      <td>0</td>\n",
              "      <td>0</td>\n",
              "      <td>...</td>\n",
              "      <td>0</td>\n",
              "      <td>0</td>\n",
              "      <td>0</td>\n",
              "      <td>0</td>\n",
              "      <td>0</td>\n",
              "      <td>0</td>\n",
              "      <td>0</td>\n",
              "      <td>0</td>\n",
              "      <td>0</td>\n",
              "      <td>0</td>\n",
              "      <td>0</td>\n",
              "      <td>0</td>\n",
              "      <td>0</td>\n",
              "      <td>0</td>\n",
              "      <td>0</td>\n",
              "      <td>0</td>\n",
              "      <td>0</td>\n",
              "      <td>0</td>\n",
              "      <td>0</td>\n",
              "      <td>0</td>\n",
              "      <td>0</td>\n",
              "      <td>0</td>\n",
              "      <td>0</td>\n",
              "      <td>0</td>\n",
              "      <td>0</td>\n",
              "      <td>0</td>\n",
              "      <td>0</td>\n",
              "      <td>0</td>\n",
              "      <td>0</td>\n",
              "      <td>0</td>\n",
              "      <td>0</td>\n",
              "      <td>0</td>\n",
              "      <td>0</td>\n",
              "      <td>0</td>\n",
              "      <td>0</td>\n",
              "      <td>0</td>\n",
              "      <td>0</td>\n",
              "      <td>0</td>\n",
              "      <td>0</td>\n",
              "      <td>1</td>\n",
              "    </tr>\n",
              "    <tr>\n",
              "      <th>257</th>\n",
              "      <td>18.469471</td>\n",
              "      <td>2013</td>\n",
              "      <td>7</td>\n",
              "      <td>30</td>\n",
              "      <td>1</td>\n",
              "      <td>3</td>\n",
              "      <td>116340000.0</td>\n",
              "      <td>3</td>\n",
              "      <td>3</td>\n",
              "      <td>3</td>\n",
              "      <td>137.0</td>\n",
              "      <td>5.0</td>\n",
              "      <td>32</td>\n",
              "      <td>12</td>\n",
              "      <td>1</td>\n",
              "      <td>1</td>\n",
              "      <td>1</td>\n",
              "      <td>1</td>\n",
              "      <td>5</td>\n",
              "      <td>0</td>\n",
              "      <td>0</td>\n",
              "      <td>1</td>\n",
              "      <td>1</td>\n",
              "      <td>0</td>\n",
              "      <td>0</td>\n",
              "      <td>0</td>\n",
              "      <td>1</td>\n",
              "      <td>1</td>\n",
              "      <td>0</td>\n",
              "      <td>0</td>\n",
              "      <td>0</td>\n",
              "      <td>0</td>\n",
              "      <td>0</td>\n",
              "      <td>0</td>\n",
              "      <td>0</td>\n",
              "      <td>0</td>\n",
              "      <td>0</td>\n",
              "      <td>0</td>\n",
              "      <td>0</td>\n",
              "      <td>0</td>\n",
              "      <td>...</td>\n",
              "      <td>0</td>\n",
              "      <td>0</td>\n",
              "      <td>0</td>\n",
              "      <td>0</td>\n",
              "      <td>0</td>\n",
              "      <td>0</td>\n",
              "      <td>0</td>\n",
              "      <td>0</td>\n",
              "      <td>0</td>\n",
              "      <td>0</td>\n",
              "      <td>0</td>\n",
              "      <td>0</td>\n",
              "      <td>0</td>\n",
              "      <td>0</td>\n",
              "      <td>0</td>\n",
              "      <td>0</td>\n",
              "      <td>0</td>\n",
              "      <td>0</td>\n",
              "      <td>0</td>\n",
              "      <td>0</td>\n",
              "      <td>0</td>\n",
              "      <td>0</td>\n",
              "      <td>0</td>\n",
              "      <td>0</td>\n",
              "      <td>0</td>\n",
              "      <td>0</td>\n",
              "      <td>0</td>\n",
              "      <td>0</td>\n",
              "      <td>0</td>\n",
              "      <td>0</td>\n",
              "      <td>0</td>\n",
              "      <td>0</td>\n",
              "      <td>0</td>\n",
              "      <td>0</td>\n",
              "      <td>0</td>\n",
              "      <td>0</td>\n",
              "      <td>0</td>\n",
              "      <td>0</td>\n",
              "      <td>0</td>\n",
              "      <td>1</td>\n",
              "    </tr>\n",
              "    <tr>\n",
              "      <th>1928</th>\n",
              "      <td>16.523561</td>\n",
              "      <td>2005</td>\n",
              "      <td>9</td>\n",
              "      <td>2</td>\n",
              "      <td>4</td>\n",
              "      <td>3</td>\n",
              "      <td>18780000.0</td>\n",
              "      <td>3</td>\n",
              "      <td>1</td>\n",
              "      <td>1</td>\n",
              "      <td>17.0</td>\n",
              "      <td>0.0</td>\n",
              "      <td>7</td>\n",
              "      <td>4</td>\n",
              "      <td>0</td>\n",
              "      <td>0</td>\n",
              "      <td>1</td>\n",
              "      <td>1</td>\n",
              "      <td>1</td>\n",
              "      <td>1</td>\n",
              "      <td>0</td>\n",
              "      <td>0</td>\n",
              "      <td>1</td>\n",
              "      <td>0</td>\n",
              "      <td>0</td>\n",
              "      <td>0</td>\n",
              "      <td>0</td>\n",
              "      <td>0</td>\n",
              "      <td>0</td>\n",
              "      <td>0</td>\n",
              "      <td>0</td>\n",
              "      <td>0</td>\n",
              "      <td>0</td>\n",
              "      <td>0</td>\n",
              "      <td>0</td>\n",
              "      <td>0</td>\n",
              "      <td>0</td>\n",
              "      <td>0</td>\n",
              "      <td>0</td>\n",
              "      <td>0</td>\n",
              "      <td>...</td>\n",
              "      <td>0</td>\n",
              "      <td>0</td>\n",
              "      <td>0</td>\n",
              "      <td>0</td>\n",
              "      <td>0</td>\n",
              "      <td>0</td>\n",
              "      <td>0</td>\n",
              "      <td>0</td>\n",
              "      <td>0</td>\n",
              "      <td>0</td>\n",
              "      <td>0</td>\n",
              "      <td>0</td>\n",
              "      <td>0</td>\n",
              "      <td>0</td>\n",
              "      <td>0</td>\n",
              "      <td>0</td>\n",
              "      <td>0</td>\n",
              "      <td>0</td>\n",
              "      <td>0</td>\n",
              "      <td>0</td>\n",
              "      <td>0</td>\n",
              "      <td>0</td>\n",
              "      <td>0</td>\n",
              "      <td>0</td>\n",
              "      <td>0</td>\n",
              "      <td>0</td>\n",
              "      <td>0</td>\n",
              "      <td>0</td>\n",
              "      <td>0</td>\n",
              "      <td>0</td>\n",
              "      <td>0</td>\n",
              "      <td>0</td>\n",
              "      <td>0</td>\n",
              "      <td>0</td>\n",
              "      <td>0</td>\n",
              "      <td>0</td>\n",
              "      <td>0</td>\n",
              "      <td>0</td>\n",
              "      <td>0</td>\n",
              "      <td>0</td>\n",
              "    </tr>\n",
              "    <tr>\n",
              "      <th>4099</th>\n",
              "      <td>15.150512</td>\n",
              "      <td>2009</td>\n",
              "      <td>6</td>\n",
              "      <td>10</td>\n",
              "      <td>2</td>\n",
              "      <td>2</td>\n",
              "      <td>4484000.0</td>\n",
              "      <td>2</td>\n",
              "      <td>5</td>\n",
              "      <td>5</td>\n",
              "      <td>13.0</td>\n",
              "      <td>0.0</td>\n",
              "      <td>6</td>\n",
              "      <td>1</td>\n",
              "      <td>1</td>\n",
              "      <td>0</td>\n",
              "      <td>1</td>\n",
              "      <td>1</td>\n",
              "      <td>0</td>\n",
              "      <td>0</td>\n",
              "      <td>0</td>\n",
              "      <td>0</td>\n",
              "      <td>1</td>\n",
              "      <td>0</td>\n",
              "      <td>0</td>\n",
              "      <td>0</td>\n",
              "      <td>0</td>\n",
              "      <td>0</td>\n",
              "      <td>0</td>\n",
              "      <td>0</td>\n",
              "      <td>0</td>\n",
              "      <td>0</td>\n",
              "      <td>0</td>\n",
              "      <td>0</td>\n",
              "      <td>0</td>\n",
              "      <td>0</td>\n",
              "      <td>0</td>\n",
              "      <td>0</td>\n",
              "      <td>0</td>\n",
              "      <td>0</td>\n",
              "      <td>...</td>\n",
              "      <td>0</td>\n",
              "      <td>0</td>\n",
              "      <td>0</td>\n",
              "      <td>0</td>\n",
              "      <td>0</td>\n",
              "      <td>0</td>\n",
              "      <td>0</td>\n",
              "      <td>0</td>\n",
              "      <td>0</td>\n",
              "      <td>0</td>\n",
              "      <td>0</td>\n",
              "      <td>0</td>\n",
              "      <td>0</td>\n",
              "      <td>0</td>\n",
              "      <td>0</td>\n",
              "      <td>0</td>\n",
              "      <td>0</td>\n",
              "      <td>0</td>\n",
              "      <td>0</td>\n",
              "      <td>0</td>\n",
              "      <td>0</td>\n",
              "      <td>0</td>\n",
              "      <td>0</td>\n",
              "      <td>0</td>\n",
              "      <td>0</td>\n",
              "      <td>0</td>\n",
              "      <td>0</td>\n",
              "      <td>0</td>\n",
              "      <td>0</td>\n",
              "      <td>0</td>\n",
              "      <td>0</td>\n",
              "      <td>0</td>\n",
              "      <td>0</td>\n",
              "      <td>0</td>\n",
              "      <td>0</td>\n",
              "      <td>0</td>\n",
              "      <td>0</td>\n",
              "      <td>0</td>\n",
              "      <td>0</td>\n",
              "      <td>0</td>\n",
              "    </tr>\n",
              "    <tr>\n",
              "      <th>1148</th>\n",
              "      <td>17.504390</td>\n",
              "      <td>2013</td>\n",
              "      <td>12</td>\n",
              "      <td>12</td>\n",
              "      <td>3</td>\n",
              "      <td>4</td>\n",
              "      <td>44320000.0</td>\n",
              "      <td>4</td>\n",
              "      <td>2</td>\n",
              "      <td>2</td>\n",
              "      <td>34.0</td>\n",
              "      <td>4.0</td>\n",
              "      <td>31</td>\n",
              "      <td>30</td>\n",
              "      <td>1</td>\n",
              "      <td>1</td>\n",
              "      <td>1</td>\n",
              "      <td>1</td>\n",
              "      <td>3</td>\n",
              "      <td>0</td>\n",
              "      <td>0</td>\n",
              "      <td>0</td>\n",
              "      <td>0</td>\n",
              "      <td>1</td>\n",
              "      <td>0</td>\n",
              "      <td>1</td>\n",
              "      <td>0</td>\n",
              "      <td>0</td>\n",
              "      <td>0</td>\n",
              "      <td>0</td>\n",
              "      <td>0</td>\n",
              "      <td>0</td>\n",
              "      <td>0</td>\n",
              "      <td>0</td>\n",
              "      <td>0</td>\n",
              "      <td>0</td>\n",
              "      <td>0</td>\n",
              "      <td>0</td>\n",
              "      <td>0</td>\n",
              "      <td>0</td>\n",
              "      <td>...</td>\n",
              "      <td>0</td>\n",
              "      <td>0</td>\n",
              "      <td>0</td>\n",
              "      <td>0</td>\n",
              "      <td>0</td>\n",
              "      <td>0</td>\n",
              "      <td>0</td>\n",
              "      <td>0</td>\n",
              "      <td>0</td>\n",
              "      <td>0</td>\n",
              "      <td>0</td>\n",
              "      <td>0</td>\n",
              "      <td>0</td>\n",
              "      <td>0</td>\n",
              "      <td>0</td>\n",
              "      <td>0</td>\n",
              "      <td>0</td>\n",
              "      <td>0</td>\n",
              "      <td>0</td>\n",
              "      <td>0</td>\n",
              "      <td>0</td>\n",
              "      <td>0</td>\n",
              "      <td>0</td>\n",
              "      <td>0</td>\n",
              "      <td>0</td>\n",
              "      <td>0</td>\n",
              "      <td>0</td>\n",
              "      <td>0</td>\n",
              "      <td>0</td>\n",
              "      <td>0</td>\n",
              "      <td>0</td>\n",
              "      <td>0</td>\n",
              "      <td>0</td>\n",
              "      <td>0</td>\n",
              "      <td>0</td>\n",
              "      <td>0</td>\n",
              "      <td>0</td>\n",
              "      <td>0</td>\n",
              "      <td>0</td>\n",
              "      <td>1</td>\n",
              "    </tr>\n",
              "    <tr>\n",
              "      <th>3238</th>\n",
              "      <td>15.894952</td>\n",
              "      <td>2006</td>\n",
              "      <td>4</td>\n",
              "      <td>28</td>\n",
              "      <td>4</td>\n",
              "      <td>2</td>\n",
              "      <td>9872000.0</td>\n",
              "      <td>3</td>\n",
              "      <td>4</td>\n",
              "      <td>4</td>\n",
              "      <td>144.0</td>\n",
              "      <td>8.0</td>\n",
              "      <td>29</td>\n",
              "      <td>30</td>\n",
              "      <td>1</td>\n",
              "      <td>1</td>\n",
              "      <td>1</td>\n",
              "      <td>1</td>\n",
              "      <td>5</td>\n",
              "      <td>0</td>\n",
              "      <td>0</td>\n",
              "      <td>0</td>\n",
              "      <td>0</td>\n",
              "      <td>0</td>\n",
              "      <td>0</td>\n",
              "      <td>1</td>\n",
              "      <td>0</td>\n",
              "      <td>0</td>\n",
              "      <td>0</td>\n",
              "      <td>0</td>\n",
              "      <td>0</td>\n",
              "      <td>0</td>\n",
              "      <td>0</td>\n",
              "      <td>0</td>\n",
              "      <td>0</td>\n",
              "      <td>0</td>\n",
              "      <td>0</td>\n",
              "      <td>0</td>\n",
              "      <td>0</td>\n",
              "      <td>0</td>\n",
              "      <td>...</td>\n",
              "      <td>0</td>\n",
              "      <td>0</td>\n",
              "      <td>0</td>\n",
              "      <td>0</td>\n",
              "      <td>0</td>\n",
              "      <td>0</td>\n",
              "      <td>0</td>\n",
              "      <td>0</td>\n",
              "      <td>0</td>\n",
              "      <td>0</td>\n",
              "      <td>0</td>\n",
              "      <td>0</td>\n",
              "      <td>0</td>\n",
              "      <td>0</td>\n",
              "      <td>0</td>\n",
              "      <td>0</td>\n",
              "      <td>0</td>\n",
              "      <td>0</td>\n",
              "      <td>0</td>\n",
              "      <td>0</td>\n",
              "      <td>0</td>\n",
              "      <td>0</td>\n",
              "      <td>0</td>\n",
              "      <td>0</td>\n",
              "      <td>0</td>\n",
              "      <td>0</td>\n",
              "      <td>0</td>\n",
              "      <td>0</td>\n",
              "      <td>0</td>\n",
              "      <td>0</td>\n",
              "      <td>0</td>\n",
              "      <td>0</td>\n",
              "      <td>0</td>\n",
              "      <td>0</td>\n",
              "      <td>0</td>\n",
              "      <td>0</td>\n",
              "      <td>0</td>\n",
              "      <td>0</td>\n",
              "      <td>0</td>\n",
              "      <td>1</td>\n",
              "    </tr>\n",
              "    <tr>\n",
              "      <th>3906</th>\n",
              "      <td>14.914123</td>\n",
              "      <td>2000</td>\n",
              "      <td>9</td>\n",
              "      <td>1</td>\n",
              "      <td>4</td>\n",
              "      <td>3</td>\n",
              "      <td>4026000.0</td>\n",
              "      <td>4</td>\n",
              "      <td>1</td>\n",
              "      <td>1</td>\n",
              "      <td>54.0</td>\n",
              "      <td>7.0</td>\n",
              "      <td>9</td>\n",
              "      <td>2</td>\n",
              "      <td>0</td>\n",
              "      <td>1</td>\n",
              "      <td>1</td>\n",
              "      <td>1</td>\n",
              "      <td>1</td>\n",
              "      <td>0</td>\n",
              "      <td>0</td>\n",
              "      <td>0</td>\n",
              "      <td>1</td>\n",
              "      <td>0</td>\n",
              "      <td>0</td>\n",
              "      <td>0</td>\n",
              "      <td>0</td>\n",
              "      <td>0</td>\n",
              "      <td>0</td>\n",
              "      <td>0</td>\n",
              "      <td>0</td>\n",
              "      <td>0</td>\n",
              "      <td>0</td>\n",
              "      <td>1</td>\n",
              "      <td>0</td>\n",
              "      <td>0</td>\n",
              "      <td>0</td>\n",
              "      <td>0</td>\n",
              "      <td>0</td>\n",
              "      <td>0</td>\n",
              "      <td>...</td>\n",
              "      <td>0</td>\n",
              "      <td>0</td>\n",
              "      <td>0</td>\n",
              "      <td>0</td>\n",
              "      <td>0</td>\n",
              "      <td>0</td>\n",
              "      <td>0</td>\n",
              "      <td>0</td>\n",
              "      <td>0</td>\n",
              "      <td>0</td>\n",
              "      <td>0</td>\n",
              "      <td>0</td>\n",
              "      <td>0</td>\n",
              "      <td>0</td>\n",
              "      <td>0</td>\n",
              "      <td>0</td>\n",
              "      <td>0</td>\n",
              "      <td>0</td>\n",
              "      <td>0</td>\n",
              "      <td>0</td>\n",
              "      <td>0</td>\n",
              "      <td>0</td>\n",
              "      <td>0</td>\n",
              "      <td>0</td>\n",
              "      <td>0</td>\n",
              "      <td>0</td>\n",
              "      <td>0</td>\n",
              "      <td>0</td>\n",
              "      <td>0</td>\n",
              "      <td>0</td>\n",
              "      <td>0</td>\n",
              "      <td>0</td>\n",
              "      <td>0</td>\n",
              "      <td>0</td>\n",
              "      <td>0</td>\n",
              "      <td>0</td>\n",
              "      <td>0</td>\n",
              "      <td>0</td>\n",
              "      <td>0</td>\n",
              "      <td>1</td>\n",
              "    </tr>\n",
              "    <tr>\n",
              "      <th>4666</th>\n",
              "      <td>16.523561</td>\n",
              "      <td>2007</td>\n",
              "      <td>6</td>\n",
              "      <td>15</td>\n",
              "      <td>4</td>\n",
              "      <td>2</td>\n",
              "      <td>18240000.0</td>\n",
              "      <td>1</td>\n",
              "      <td>5</td>\n",
              "      <td>5</td>\n",
              "      <td>101.0</td>\n",
              "      <td>0.0</td>\n",
              "      <td>0</td>\n",
              "      <td>2</td>\n",
              "      <td>0</td>\n",
              "      <td>0</td>\n",
              "      <td>1</td>\n",
              "      <td>1</td>\n",
              "      <td>0</td>\n",
              "      <td>0</td>\n",
              "      <td>0</td>\n",
              "      <td>0</td>\n",
              "      <td>0</td>\n",
              "      <td>0</td>\n",
              "      <td>1</td>\n",
              "      <td>0</td>\n",
              "      <td>0</td>\n",
              "      <td>0</td>\n",
              "      <td>0</td>\n",
              "      <td>0</td>\n",
              "      <td>0</td>\n",
              "      <td>0</td>\n",
              "      <td>0</td>\n",
              "      <td>0</td>\n",
              "      <td>0</td>\n",
              "      <td>0</td>\n",
              "      <td>0</td>\n",
              "      <td>0</td>\n",
              "      <td>0</td>\n",
              "      <td>0</td>\n",
              "      <td>...</td>\n",
              "      <td>0</td>\n",
              "      <td>0</td>\n",
              "      <td>0</td>\n",
              "      <td>0</td>\n",
              "      <td>0</td>\n",
              "      <td>0</td>\n",
              "      <td>0</td>\n",
              "      <td>0</td>\n",
              "      <td>0</td>\n",
              "      <td>0</td>\n",
              "      <td>0</td>\n",
              "      <td>0</td>\n",
              "      <td>0</td>\n",
              "      <td>0</td>\n",
              "      <td>0</td>\n",
              "      <td>0</td>\n",
              "      <td>0</td>\n",
              "      <td>0</td>\n",
              "      <td>0</td>\n",
              "      <td>0</td>\n",
              "      <td>0</td>\n",
              "      <td>0</td>\n",
              "      <td>0</td>\n",
              "      <td>0</td>\n",
              "      <td>0</td>\n",
              "      <td>0</td>\n",
              "      <td>0</td>\n",
              "      <td>0</td>\n",
              "      <td>0</td>\n",
              "      <td>0</td>\n",
              "      <td>0</td>\n",
              "      <td>0</td>\n",
              "      <td>0</td>\n",
              "      <td>0</td>\n",
              "      <td>0</td>\n",
              "      <td>0</td>\n",
              "      <td>0</td>\n",
              "      <td>0</td>\n",
              "      <td>0</td>\n",
              "      <td>0</td>\n",
              "    </tr>\n",
              "    <tr>\n",
              "      <th>1982</th>\n",
              "      <td>16.976757</td>\n",
              "      <td>2009</td>\n",
              "      <td>10</td>\n",
              "      <td>7</td>\n",
              "      <td>2</td>\n",
              "      <td>4</td>\n",
              "      <td>27848000.0</td>\n",
              "      <td>20</td>\n",
              "      <td>1</td>\n",
              "      <td>1</td>\n",
              "      <td>50.0</td>\n",
              "      <td>5.0</td>\n",
              "      <td>16</td>\n",
              "      <td>9</td>\n",
              "      <td>1</td>\n",
              "      <td>1</td>\n",
              "      <td>1</td>\n",
              "      <td>1</td>\n",
              "      <td>3</td>\n",
              "      <td>0</td>\n",
              "      <td>0</td>\n",
              "      <td>0</td>\n",
              "      <td>1</td>\n",
              "      <td>0</td>\n",
              "      <td>0</td>\n",
              "      <td>0</td>\n",
              "      <td>0</td>\n",
              "      <td>0</td>\n",
              "      <td>0</td>\n",
              "      <td>0</td>\n",
              "      <td>1</td>\n",
              "      <td>0</td>\n",
              "      <td>0</td>\n",
              "      <td>0</td>\n",
              "      <td>0</td>\n",
              "      <td>0</td>\n",
              "      <td>0</td>\n",
              "      <td>0</td>\n",
              "      <td>0</td>\n",
              "      <td>0</td>\n",
              "      <td>...</td>\n",
              "      <td>0</td>\n",
              "      <td>0</td>\n",
              "      <td>0</td>\n",
              "      <td>0</td>\n",
              "      <td>0</td>\n",
              "      <td>0</td>\n",
              "      <td>0</td>\n",
              "      <td>0</td>\n",
              "      <td>0</td>\n",
              "      <td>0</td>\n",
              "      <td>1</td>\n",
              "      <td>0</td>\n",
              "      <td>0</td>\n",
              "      <td>0</td>\n",
              "      <td>0</td>\n",
              "      <td>0</td>\n",
              "      <td>0</td>\n",
              "      <td>0</td>\n",
              "      <td>0</td>\n",
              "      <td>0</td>\n",
              "      <td>0</td>\n",
              "      <td>0</td>\n",
              "      <td>0</td>\n",
              "      <td>0</td>\n",
              "      <td>0</td>\n",
              "      <td>0</td>\n",
              "      <td>0</td>\n",
              "      <td>0</td>\n",
              "      <td>0</td>\n",
              "      <td>0</td>\n",
              "      <td>0</td>\n",
              "      <td>0</td>\n",
              "      <td>0</td>\n",
              "      <td>0</td>\n",
              "      <td>0</td>\n",
              "      <td>0</td>\n",
              "      <td>0</td>\n",
              "      <td>0</td>\n",
              "      <td>0</td>\n",
              "      <td>1</td>\n",
              "    </tr>\n",
              "    <tr>\n",
              "      <th>3220</th>\n",
              "      <td>15.919645</td>\n",
              "      <td>1965</td>\n",
              "      <td>3</td>\n",
              "      <td>2</td>\n",
              "      <td>1</td>\n",
              "      <td>1</td>\n",
              "      <td>16170400.0</td>\n",
              "      <td>17</td>\n",
              "      <td>4</td>\n",
              "      <td>4</td>\n",
              "      <td>21.0</td>\n",
              "      <td>7.0</td>\n",
              "      <td>21</td>\n",
              "      <td>18</td>\n",
              "      <td>0</td>\n",
              "      <td>1</td>\n",
              "      <td>1</td>\n",
              "      <td>1</td>\n",
              "      <td>3</td>\n",
              "      <td>0</td>\n",
              "      <td>0</td>\n",
              "      <td>0</td>\n",
              "      <td>0</td>\n",
              "      <td>0</td>\n",
              "      <td>0</td>\n",
              "      <td>1</td>\n",
              "      <td>1</td>\n",
              "      <td>0</td>\n",
              "      <td>0</td>\n",
              "      <td>0</td>\n",
              "      <td>0</td>\n",
              "      <td>1</td>\n",
              "      <td>0</td>\n",
              "      <td>1</td>\n",
              "      <td>0</td>\n",
              "      <td>0</td>\n",
              "      <td>0</td>\n",
              "      <td>0</td>\n",
              "      <td>0</td>\n",
              "      <td>0</td>\n",
              "      <td>...</td>\n",
              "      <td>0</td>\n",
              "      <td>0</td>\n",
              "      <td>0</td>\n",
              "      <td>0</td>\n",
              "      <td>0</td>\n",
              "      <td>0</td>\n",
              "      <td>0</td>\n",
              "      <td>0</td>\n",
              "      <td>0</td>\n",
              "      <td>0</td>\n",
              "      <td>0</td>\n",
              "      <td>0</td>\n",
              "      <td>0</td>\n",
              "      <td>0</td>\n",
              "      <td>0</td>\n",
              "      <td>0</td>\n",
              "      <td>0</td>\n",
              "      <td>0</td>\n",
              "      <td>0</td>\n",
              "      <td>0</td>\n",
              "      <td>0</td>\n",
              "      <td>0</td>\n",
              "      <td>0</td>\n",
              "      <td>0</td>\n",
              "      <td>0</td>\n",
              "      <td>0</td>\n",
              "      <td>0</td>\n",
              "      <td>0</td>\n",
              "      <td>1</td>\n",
              "      <td>0</td>\n",
              "      <td>0</td>\n",
              "      <td>0</td>\n",
              "      <td>0</td>\n",
              "      <td>0</td>\n",
              "      <td>0</td>\n",
              "      <td>0</td>\n",
              "      <td>0</td>\n",
              "      <td>0</td>\n",
              "      <td>0</td>\n",
              "      <td>1</td>\n",
              "    </tr>\n",
              "    <tr>\n",
              "      <th>3828</th>\n",
              "      <td>15.068274</td>\n",
              "      <td>2006</td>\n",
              "      <td>2</td>\n",
              "      <td>7</td>\n",
              "      <td>1</td>\n",
              "      <td>1</td>\n",
              "      <td>4319000.0</td>\n",
              "      <td>2</td>\n",
              "      <td>2</td>\n",
              "      <td>2</td>\n",
              "      <td>72.0</td>\n",
              "      <td>15.0</td>\n",
              "      <td>15</td>\n",
              "      <td>2</td>\n",
              "      <td>0</td>\n",
              "      <td>1</td>\n",
              "      <td>1</td>\n",
              "      <td>1</td>\n",
              "      <td>2</td>\n",
              "      <td>0</td>\n",
              "      <td>0</td>\n",
              "      <td>0</td>\n",
              "      <td>1</td>\n",
              "      <td>0</td>\n",
              "      <td>0</td>\n",
              "      <td>1</td>\n",
              "      <td>0</td>\n",
              "      <td>0</td>\n",
              "      <td>0</td>\n",
              "      <td>0</td>\n",
              "      <td>0</td>\n",
              "      <td>0</td>\n",
              "      <td>0</td>\n",
              "      <td>0</td>\n",
              "      <td>0</td>\n",
              "      <td>0</td>\n",
              "      <td>0</td>\n",
              "      <td>0</td>\n",
              "      <td>0</td>\n",
              "      <td>0</td>\n",
              "      <td>...</td>\n",
              "      <td>0</td>\n",
              "      <td>0</td>\n",
              "      <td>0</td>\n",
              "      <td>0</td>\n",
              "      <td>0</td>\n",
              "      <td>0</td>\n",
              "      <td>0</td>\n",
              "      <td>0</td>\n",
              "      <td>0</td>\n",
              "      <td>0</td>\n",
              "      <td>0</td>\n",
              "      <td>0</td>\n",
              "      <td>0</td>\n",
              "      <td>0</td>\n",
              "      <td>0</td>\n",
              "      <td>0</td>\n",
              "      <td>0</td>\n",
              "      <td>0</td>\n",
              "      <td>0</td>\n",
              "      <td>0</td>\n",
              "      <td>0</td>\n",
              "      <td>0</td>\n",
              "      <td>0</td>\n",
              "      <td>0</td>\n",
              "      <td>0</td>\n",
              "      <td>0</td>\n",
              "      <td>0</td>\n",
              "      <td>0</td>\n",
              "      <td>0</td>\n",
              "      <td>0</td>\n",
              "      <td>0</td>\n",
              "      <td>0</td>\n",
              "      <td>0</td>\n",
              "      <td>0</td>\n",
              "      <td>0</td>\n",
              "      <td>0</td>\n",
              "      <td>0</td>\n",
              "      <td>0</td>\n",
              "      <td>0</td>\n",
              "      <td>1</td>\n",
              "    </tr>\n",
              "    <tr>\n",
              "      <th>2749</th>\n",
              "      <td>15.607270</td>\n",
              "      <td>2015</td>\n",
              "      <td>10</td>\n",
              "      <td>16</td>\n",
              "      <td>4</td>\n",
              "      <td>4</td>\n",
              "      <td>6432000.0</td>\n",
              "      <td>13</td>\n",
              "      <td>1</td>\n",
              "      <td>1</td>\n",
              "      <td>49.0</td>\n",
              "      <td>4.0</td>\n",
              "      <td>24</td>\n",
              "      <td>24</td>\n",
              "      <td>1</td>\n",
              "      <td>1</td>\n",
              "      <td>1</td>\n",
              "      <td>2</td>\n",
              "      <td>8</td>\n",
              "      <td>0</td>\n",
              "      <td>0</td>\n",
              "      <td>0</td>\n",
              "      <td>0</td>\n",
              "      <td>0</td>\n",
              "      <td>0</td>\n",
              "      <td>1</td>\n",
              "      <td>0</td>\n",
              "      <td>0</td>\n",
              "      <td>0</td>\n",
              "      <td>0</td>\n",
              "      <td>0</td>\n",
              "      <td>0</td>\n",
              "      <td>0</td>\n",
              "      <td>0</td>\n",
              "      <td>0</td>\n",
              "      <td>1</td>\n",
              "      <td>0</td>\n",
              "      <td>0</td>\n",
              "      <td>0</td>\n",
              "      <td>0</td>\n",
              "      <td>...</td>\n",
              "      <td>0</td>\n",
              "      <td>0</td>\n",
              "      <td>0</td>\n",
              "      <td>0</td>\n",
              "      <td>0</td>\n",
              "      <td>0</td>\n",
              "      <td>0</td>\n",
              "      <td>0</td>\n",
              "      <td>0</td>\n",
              "      <td>0</td>\n",
              "      <td>0</td>\n",
              "      <td>0</td>\n",
              "      <td>0</td>\n",
              "      <td>0</td>\n",
              "      <td>0</td>\n",
              "      <td>0</td>\n",
              "      <td>0</td>\n",
              "      <td>0</td>\n",
              "      <td>0</td>\n",
              "      <td>0</td>\n",
              "      <td>0</td>\n",
              "      <td>0</td>\n",
              "      <td>0</td>\n",
              "      <td>0</td>\n",
              "      <td>0</td>\n",
              "      <td>0</td>\n",
              "      <td>0</td>\n",
              "      <td>0</td>\n",
              "      <td>0</td>\n",
              "      <td>0</td>\n",
              "      <td>0</td>\n",
              "      <td>0</td>\n",
              "      <td>0</td>\n",
              "      <td>0</td>\n",
              "      <td>0</td>\n",
              "      <td>0</td>\n",
              "      <td>0</td>\n",
              "      <td>0</td>\n",
              "      <td>0</td>\n",
              "      <td>1</td>\n",
              "    </tr>\n",
              "    <tr>\n",
              "      <th>953</th>\n",
              "      <td>17.727534</td>\n",
              "      <td>2014</td>\n",
              "      <td>10</td>\n",
              "      <td>8</td>\n",
              "      <td>2</td>\n",
              "      <td>4</td>\n",
              "      <td>54500000.0</td>\n",
              "      <td>3</td>\n",
              "      <td>2</td>\n",
              "      <td>2</td>\n",
              "      <td>25.0</td>\n",
              "      <td>3.0</td>\n",
              "      <td>16</td>\n",
              "      <td>39</td>\n",
              "      <td>1</td>\n",
              "      <td>1</td>\n",
              "      <td>1</td>\n",
              "      <td>1</td>\n",
              "      <td>4</td>\n",
              "      <td>0</td>\n",
              "      <td>0</td>\n",
              "      <td>0</td>\n",
              "      <td>0</td>\n",
              "      <td>0</td>\n",
              "      <td>0</td>\n",
              "      <td>1</td>\n",
              "      <td>0</td>\n",
              "      <td>0</td>\n",
              "      <td>0</td>\n",
              "      <td>0</td>\n",
              "      <td>0</td>\n",
              "      <td>0</td>\n",
              "      <td>0</td>\n",
              "      <td>0</td>\n",
              "      <td>0</td>\n",
              "      <td>0</td>\n",
              "      <td>0</td>\n",
              "      <td>0</td>\n",
              "      <td>0</td>\n",
              "      <td>0</td>\n",
              "      <td>...</td>\n",
              "      <td>0</td>\n",
              "      <td>0</td>\n",
              "      <td>0</td>\n",
              "      <td>0</td>\n",
              "      <td>0</td>\n",
              "      <td>0</td>\n",
              "      <td>0</td>\n",
              "      <td>0</td>\n",
              "      <td>0</td>\n",
              "      <td>0</td>\n",
              "      <td>0</td>\n",
              "      <td>0</td>\n",
              "      <td>0</td>\n",
              "      <td>0</td>\n",
              "      <td>0</td>\n",
              "      <td>0</td>\n",
              "      <td>0</td>\n",
              "      <td>0</td>\n",
              "      <td>0</td>\n",
              "      <td>0</td>\n",
              "      <td>0</td>\n",
              "      <td>0</td>\n",
              "      <td>0</td>\n",
              "      <td>0</td>\n",
              "      <td>0</td>\n",
              "      <td>0</td>\n",
              "      <td>0</td>\n",
              "      <td>0</td>\n",
              "      <td>0</td>\n",
              "      <td>0</td>\n",
              "      <td>0</td>\n",
              "      <td>0</td>\n",
              "      <td>0</td>\n",
              "      <td>1</td>\n",
              "      <td>0</td>\n",
              "      <td>0</td>\n",
              "      <td>1</td>\n",
              "      <td>0</td>\n",
              "      <td>0</td>\n",
              "      <td>1</td>\n",
              "    </tr>\n",
              "  </tbody>\n",
              "</table>\n",
              "<p>20 rows × 184 columns</p>\n",
              "</div>"
            ],
            "text/plain": [
              "         budget  release_year  ...  Working Title Films  production_companies_etc\n",
              "996   17.727534          2016  ...                    0                         1\n",
              "346   18.420681          2009  ...                    0                         1\n",
              "558   18.092177          2001  ...                    0                         1\n",
              "3903  16.523561          2002  ...                    0                         0\n",
              "1480  17.312018          2006  ...                    0                         0\n",
              "2310  16.648724          1999  ...                    0                         1\n",
              "4085  14.508658          2007  ...                    0                         0\n",
              "2939  16.523561          2001  ...                    0                         1\n",
              "257   18.469471          2013  ...                    0                         1\n",
              "1928  16.523561          2005  ...                    0                         0\n",
              "4099  15.150512          2009  ...                    0                         0\n",
              "1148  17.504390          2013  ...                    0                         1\n",
              "3238  15.894952          2006  ...                    0                         1\n",
              "3906  14.914123          2000  ...                    0                         1\n",
              "4666  16.523561          2007  ...                    0                         0\n",
              "1982  16.976757          2009  ...                    0                         1\n",
              "3220  15.919645          1965  ...                    0                         1\n",
              "3828  15.068274          2006  ...                    0                         1\n",
              "2749  15.607270          2015  ...                    0                         1\n",
              "953   17.727534          2014  ...                    0                         1\n",
              "\n",
              "[20 rows x 184 columns]"
            ]
          },
          "metadata": {
            "tags": []
          },
          "execution_count": 230
        }
      ]
    },
    {
      "cell_type": "code",
      "metadata": {
        "id": "kO6-S1jgJhZS",
        "colab_type": "code",
        "colab": {}
      },
      "source": [
        "## we start with a simple MLR model as baseline model\n",
        "from sklearn.pipeline import Pipeline\n",
        "from sklearn.linear_model import LinearRegression\n",
        "ppl=Pipeline([\n",
        "        (\"linear_regression\",LinearRegression())\n",
        "])\n",
        "cvscore_mlr = cross_val_score(ppl,xtrain,ytrain,cv=5,scoring=\"neg_mean_squared_error\")"
      ],
      "execution_count": 0,
      "outputs": []
    },
    {
      "cell_type": "code",
      "metadata": {
        "colab_type": "code",
        "outputId": "01cfd4b8-c201-4894-9c17-63bd82dd420c",
        "id": "lSsMuDXVYURr",
        "colab": {
          "base_uri": "https://localhost:8080/",
          "height": 35
        }
      },
      "source": [
        "print(cvscore_mlr.mean())"
      ],
      "execution_count": 0,
      "outputs": [
        {
          "output_type": "stream",
          "text": [
            "-2.1649009860565047\n"
          ],
          "name": "stdout"
        }
      ]
    },
    {
      "cell_type": "code",
      "metadata": {
        "id": "17oQdqUhYVJC",
        "colab_type": "code",
        "outputId": "274819fa-dc6a-49d2-f30e-60f4092f59d3",
        "colab": {
          "base_uri": "https://localhost:8080/",
          "height": 35
        }
      },
      "source": [
        "mlr = ppl.fit(xtrain,ytrain)\n",
        "ypred_mlr=mlr.predict(xtest)\n",
        "mse_test_mlr=(np.square(ytest - ypred_mlr)).mean()\n",
        "mse_test_mlr"
      ],
      "execution_count": 0,
      "outputs": [
        {
          "output_type": "execute_result",
          "data": {
            "text/plain": [
              "2.370167122212057"
            ]
          },
          "metadata": {
            "tags": []
          },
          "execution_count": 233
        }
      ]
    },
    {
      "cell_type": "code",
      "metadata": {
        "id": "9T6uJdFXgDcZ",
        "colab_type": "code",
        "colab": {}
      },
      "source": [
        "# use Random forst regressor\n",
        "# starts with initial setting of params,see how it behaves \n",
        "# will tune later with gridsearch\n",
        "\n",
        "rf = RandomForestRegressor(n_estimators=2000, # Number of trees to train. maybe 10,000 with colab.\n",
        "                       max_depth=None, # Max depth of the trees. Not necessary to change.\n",
        "                       min_samples_split=2, # Minimum samples to create a split.\n",
        "                       min_samples_leaf=0.001, # Minimum samples in a leaf. Accepts fractions for %. This is 0.1% of sample.\n",
        "                       max_features='auto', # Maximum number of features per split (not tree!) by default is sqrt(vars)\n",
        "                       max_leaf_nodes=None, # Maximum number of nodes.\n",
        "                       min_impurity_decrease=0.0001, # Minimum impurity decrease. This is 10^-3.\n",
        "                       bootstrap=False, # If sample with repetition. For large samples (>100.000) set to false.\n",
        "                       oob_score=False,  # If report accuracy with non-selected cases.\n",
        "                       n_jobs=-1, # Parallel processing. Set to -1 for all cores.\n",
        "                       random_state=1, # Seed\n",
        "                       verbose=0, # Set to 0 for silent training.\n",
        "                       warm_start=False)\n"
      ],
      "execution_count": 0,
      "outputs": []
    },
    {
      "cell_type": "code",
      "metadata": {
        "id": "8oHftGo7hZI1",
        "colab_type": "code",
        "outputId": "2321260b-9c8f-49b5-a8df-bbeefdb2e833",
        "colab": {
          "base_uri": "https://localhost:8080/",
          "height": 143
        }
      },
      "source": [
        "rf.fit(xtrain,ytrain)"
      ],
      "execution_count": 0,
      "outputs": [
        {
          "output_type": "execute_result",
          "data": {
            "text/plain": [
              "RandomForestRegressor(bootstrap=False, criterion='mse', max_depth=None,\n",
              "                      max_features='auto', max_leaf_nodes=None,\n",
              "                      min_impurity_decrease=0.0001, min_impurity_split=None,\n",
              "                      min_samples_leaf=0.001, min_samples_split=2,\n",
              "                      min_weight_fraction_leaf=0.0, n_estimators=2000,\n",
              "                      n_jobs=-1, oob_score=False, random_state=1, verbose=0,\n",
              "                      warm_start=False)"
            ]
          },
          "metadata": {
            "tags": []
          },
          "execution_count": 235
        }
      ]
    },
    {
      "cell_type": "code",
      "metadata": {
        "id": "KQgusL-ggDcb",
        "colab_type": "code",
        "outputId": "e2db1242-dbd7-48d9-9573-8d00f65385b6",
        "colab": {
          "base_uri": "https://localhost:8080/",
          "height": 35
        }
      },
      "source": [
        "ypred=rf.predict(xtest)\n",
        "mse_test_rf=(np.square(ytest - ypred)).mean()\n",
        "mse_test_rf\n",
        "## this is the test score before parameter tuning"
      ],
      "execution_count": 0,
      "outputs": [
        {
          "output_type": "execute_result",
          "data": {
            "text/plain": [
              "3.083846816084841"
            ]
          },
          "metadata": {
            "tags": []
          },
          "execution_count": 236
        }
      ]
    },
    {
      "cell_type": "code",
      "metadata": {
        "id": "oFz4frzrgDcd",
        "colab_type": "code",
        "colab": {}
      },
      "source": [
        "cvscore_rf = cross_val_score(rf,xtrain,ytrain, cv=5, scoring=\"neg_mean_squared_error\")"
      ],
      "execution_count": 0,
      "outputs": []
    },
    {
      "cell_type": "code",
      "metadata": {
        "id": "J6yIeSNSgDcl",
        "colab_type": "code",
        "outputId": "b47db4ad-e234-4d08-d5db-7fb32ef723ad",
        "colab": {
          "base_uri": "https://localhost:8080/",
          "height": 35
        }
      },
      "source": [
        "print(cvscore_rf.mean())\n",
        "## this is the score we get before parameter tuning"
      ],
      "execution_count": 0,
      "outputs": [
        {
          "output_type": "stream",
          "text": [
            "-3.2129063213729374\n"
          ],
          "name": "stdout"
        }
      ]
    },
    {
      "cell_type": "code",
      "metadata": {
        "id": "WHGGLK14hibe",
        "colab_type": "code",
        "outputId": "c6cf9fcb-89bf-40dd-c09b-af8665dd57e3",
        "colab": {
          "base_uri": "https://localhost:8080/",
          "height": 71
        }
      },
      "source": [
        "## tune parameter: min_samples_split\n",
        "## three models with min_samples_split = 2,5,10 will be created and compared\n",
        "parameters = {\n",
        "            'min_samples_split': [2,5,10]\n",
        "}\n",
        "gsearch = GridSearchCV(rf, param_grid=parameters, scoring='neg_mean_squared_error', cv=3)\n",
        "gsearch.fit(xtrain, ytrain)\n",
        "\n",
        "print(\"Best score: %0.3f\" % gsearch.best_score_)\n",
        "print(\"Best parameters set:\")\n",
        "best_parameters = gsearch.best_estimator_.get_params()\n",
        "for param_name in sorted(parameters.keys()):\n",
        "    print(\"\\t%s: %r\" % (param_name, best_parameters[param_name]))"
      ],
      "execution_count": 0,
      "outputs": [
        {
          "output_type": "stream",
          "text": [
            "Best score: -3.078\n",
            "Best parameters set:\n",
            "\tmin_samples_split: 10\n"
          ],
          "name": "stdout"
        }
      ]
    },
    {
      "cell_type": "code",
      "metadata": {
        "id": "D9Aso-vgH_08",
        "colab_type": "code",
        "outputId": "1bb47929-9363-4c27-e289-137ab1242262",
        "colab": {
          "base_uri": "https://localhost:8080/",
          "height": 71
        }
      },
      "source": [
        "## tune another parameter: min_samples_leaf\n",
        "parameters = {\n",
        "            'min_samples_leaf': [0.001,0.005,0.01]\n",
        "}\n",
        "gsearch = GridSearchCV(rf, param_grid=parameters, scoring='neg_mean_squared_error', cv=3)\n",
        "gsearch.fit(xtrain, ytrain)\n",
        "\n",
        "print(\"Best score: %0.3f\" % gsearch.best_score_)\n",
        "print(\"Best parameters set:\")\n",
        "best_parameters = gsearch.best_estimator_.get_params()\n",
        "for param_name in sorted(parameters.keys()):\n",
        "    print(\"\\t%s: %r\" % (param_name, best_parameters[param_name]))"
      ],
      "execution_count": 0,
      "outputs": [
        {
          "output_type": "stream",
          "text": [
            "Best score: -2.331\n",
            "Best parameters set:\n",
            "\tmin_samples_leaf: 0.01\n"
          ],
          "name": "stdout"
        }
      ]
    },
    {
      "cell_type": "code",
      "metadata": {
        "id": "SW5tP0BdKLdy",
        "colab_type": "code",
        "outputId": "369e230c-896d-4752-a4c3-b8f930c96cb8",
        "colab": {
          "base_uri": "https://localhost:8080/",
          "height": 143
        }
      },
      "source": [
        "## use the parameters we tuned to build a new model\n",
        "## also increase the number of estimators from 2000 to 5000 because it's always going to be better\n",
        "rf = RandomForestRegressor(n_estimators=5000, # Number of trees to train.\n",
        "                       max_depth=None, # Max depth of the trees. Not necessary to change.\n",
        "                       min_samples_split=10, # Minimum samples to create a split.\n",
        "                       min_samples_leaf=0.01, # Minimum samples in a leaf. Accepts fractions for %. This is 1% of sample.\n",
        "                       max_features='auto', \n",
        "                       max_leaf_nodes=None, # Maximum number of nodes.\n",
        "                       min_impurity_decrease=0.0001, # Minimum impurity decrease. This is 10^-3.\n",
        "                       bootstrap=False, \n",
        "                       oob_score=False,\n",
        "                       n_jobs=-1, # Parallel processing. Set to -1 for all cores.\n",
        "                       random_state=1, # Seed\n",
        "                       verbose=0, # Set to 0 for silent training.\n",
        "                       warm_start=False)\n",
        "rf.fit(xtrain,ytrain)"
      ],
      "execution_count": 0,
      "outputs": [
        {
          "output_type": "execute_result",
          "data": {
            "text/plain": [
              "RandomForestRegressor(bootstrap=False, criterion='mse', max_depth=None,\n",
              "                      max_features='auto', max_leaf_nodes=None,\n",
              "                      min_impurity_decrease=0.0001, min_impurity_split=None,\n",
              "                      min_samples_leaf=0.01, min_samples_split=10,\n",
              "                      min_weight_fraction_leaf=0.0, n_estimators=5000,\n",
              "                      n_jobs=-1, oob_score=False, random_state=1, verbose=0,\n",
              "                      warm_start=False)"
            ]
          },
          "metadata": {
            "tags": []
          },
          "execution_count": 241
        }
      ]
    },
    {
      "cell_type": "code",
      "metadata": {
        "id": "NpgPWekbMNOK",
        "colab_type": "code",
        "outputId": "538f7462-7546-48c6-814d-a4ee33fdbb77",
        "colab": {
          "base_uri": "https://localhost:8080/",
          "height": 35
        }
      },
      "source": [
        "ypred=rf.predict(xtest)\n",
        "mse_test_rf=(np.square(ytest - ypred)).mean()\n",
        "mse_test_rf\n",
        "## this is the test score after parameter tuning"
      ],
      "execution_count": 0,
      "outputs": [
        {
          "output_type": "execute_result",
          "data": {
            "text/plain": [
              "2.480736267617681"
            ]
          },
          "metadata": {
            "tags": []
          },
          "execution_count": 242
        }
      ]
    },
    {
      "cell_type": "code",
      "metadata": {
        "id": "1CQZ7zyGOohR",
        "colab_type": "code",
        "colab": {}
      },
      "source": [
        "cvscore_rf = cross_val_score(rf,xtrain,ytrain, cv=5, scoring=\"neg_mean_squared_error\")"
      ],
      "execution_count": 0,
      "outputs": []
    },
    {
      "cell_type": "code",
      "metadata": {
        "id": "NESF4A16Oss0",
        "colab_type": "code",
        "outputId": "b24196f6-5613-475e-fcac-b9b1118c8137",
        "colab": {
          "base_uri": "https://localhost:8080/",
          "height": 35
        }
      },
      "source": [
        "cvscore_rf.mean()\n",
        "## this is the cvscore after parameter tuning on random forest"
      ],
      "execution_count": 0,
      "outputs": [
        {
          "output_type": "execute_result",
          "data": {
            "text/plain": [
              "-2.317542755438305"
            ]
          },
          "metadata": {
            "tags": []
          },
          "execution_count": 244
        }
      ]
    },
    {
      "cell_type": "code",
      "metadata": {
        "id": "fVo4uLgPgDcn",
        "colab_type": "code",
        "outputId": "2003b594-0a06-45fe-8b06-47eef73e8366",
        "colab": {
          "base_uri": "https://localhost:8080/",
          "height": 1000
        }
      },
      "source": [
        "## see which predictors are important\n",
        "for name, importance in zip(xtrain.columns, rf.feature_importances_):\n",
        "    print(name, \"= %.2f\" % importance)\n",
        "## important predictors:inflationBudget,release year, cast count, crew cocunt,num_keywords "
      ],
      "execution_count": 0,
      "outputs": [
        {
          "output_type": "stream",
          "text": [
            "budget = 0.15\n",
            "release_year = 0.03\n",
            "release_month = 0.00\n",
            "release_day = 0.01\n",
            "release_dayofweek = 0.01\n",
            "release_quarter = 0.00\n",
            "inflationBudget = 0.66\n",
            "num_keywords = 0.03\n",
            "original_title_word_count = 0.00\n",
            "title_word_count = 0.00\n",
            "overview_word_count = 0.01\n",
            "tagline_word_count = 0.00\n",
            "cast_count = 0.04\n",
            "crew_count = 0.04\n",
            "has_homepage = 0.00\n",
            "has_tagline = 0.00\n",
            "isOriginalLanguageEng = 0.00\n",
            "production_countries_count = 0.00\n",
            "production_companies_count = 0.00\n",
            "Action = 0.00\n",
            "Adventure = 0.00\n",
            "Animation = 0.00\n",
            "Comedy = 0.00\n",
            "Crime = 0.00\n",
            "Documentary = 0.00\n",
            "Drama = 0.00\n",
            "Family = 0.00\n",
            "Fantasy = 0.00\n",
            "Foreign = 0.00\n",
            "History = 0.00\n",
            "Horror = 0.00\n",
            "Music = 0.00\n",
            "Mystery = 0.00\n",
            "Romance = 0.00\n",
            "Science Fiction = 0.00\n",
            "Thriller = 0.00\n",
            "War = 0.00\n",
            "Western = 0.00\n",
            "genres_etc = 0.00\n",
            "Australia = 0.00\n",
            "Belgium = 0.00\n",
            "Canada = 0.00\n",
            "China = 0.00\n",
            "Czech Republic = 0.00\n",
            "Denmark = 0.00\n",
            "France = 0.00\n",
            "Germany = 0.00\n",
            "Hong Kong = 0.00\n",
            "India = 0.00\n",
            "Ireland = 0.00\n",
            "Italy = 0.00\n",
            "Japan = 0.00\n",
            "Mexico = 0.00\n",
            "Netherlands = 0.00\n",
            "New Zealand = 0.00\n",
            "Russia = 0.00\n",
            "South Africa = 0.00\n",
            "South Korea = 0.00\n",
            "Spain = 0.00\n",
            "Sweden = 0.00\n",
            "Switzerland = 0.00\n",
            "United Kingdom = 0.00\n",
            "United States of America = 0.00\n",
            "production_countries_etc = 0.00\n",
            "Deutsch = 0.00\n",
            "English = 0.00\n",
            "Español = 0.00\n",
            "Français = 0.00\n",
            "Italiano = 0.00\n",
            "Latin = 0.00\n",
            "Magyar = 0.00\n",
            "Polski = 0.00\n",
            "Português = 0.00\n",
            "Pусский = 0.00\n",
            "Tiếng Việt = 0.00\n",
            "Türkçe = 0.00\n",
            "spoken_languages_etc = 0.00\n",
            "svenska = 0.00\n",
            "Český = 0.00\n",
            "ελληνικά = 0.00\n",
            "עִבְרִית = 0.00\n",
            "اردو = 0.00\n",
            "العربية = 0.00\n",
            "हिन्दी = 0.00\n",
            "ภาษาไทย = 0.00\n",
            "广州话 / 廣州話 = 0.00\n",
            "日本語 = 0.00\n",
            "普通话 = 0.00\n",
            "한국어/조선말 = 0.00\n",
            "1492 Pictures = 0.00\n",
            "40 Acres & A Mule Filmworks = 0.00\n",
            "Alcon Entertainment = 0.00\n",
            "Amblin Entertainment = 0.00\n",
            "Anonymous Content = 0.00\n",
            "Apatow Productions = 0.00\n",
            "BBC Films = 0.00\n",
            "Blumhouse Productions = 0.00\n",
            "Canal+ = 0.00\n",
            "Castle Rock Entertainment = 0.00\n",
            "Columbia Pictures = 0.00\n",
            "Columbia Pictures Corporation = 0.00\n",
            "Constantin Film Produktion = 0.00\n",
            "DC Comics = 0.00\n",
            "Dark Castle Entertainment = 0.00\n",
            "Davis Entertainment = 0.00\n",
            "Di Bonaventura Pictures = 0.00\n",
            "Dimension Films = 0.00\n",
            "Dino De Laurentiis Company = 0.00\n",
            "Double Feature Films = 0.00\n",
            "DreamWorks Animation = 0.00\n",
            "DreamWorks SKG = 0.00\n",
            "Dune Entertainment = 0.00\n",
            "Dune Entertainment III = 0.00\n",
            "Eon Productions = 0.00\n",
            "Epsilon Motion Pictures = 0.00\n",
            "EuropaCorp = 0.00\n",
            "Film4 = 0.00\n",
            "Focus Features = 0.00\n",
            "Fox 2000 Pictures = 0.00\n",
            "Fox Searchlight Pictures = 0.00\n",
            "France 2 Cinéma = 0.00\n",
            "Franchise Pictures = 0.00\n",
            "Happy Madison Productions = 0.00\n",
            "Hollywood Pictures = 0.00\n",
            "Imagine Entertainment = 0.00\n",
            "Ingenious Film Partners = 0.00\n",
            "Intermedia Films = 0.00\n",
            "Jerry Bruckheimer Films = 0.00\n",
            "Jersey Films = 0.00\n",
            "Lakeshore Entertainment = 0.00\n",
            "Legendary Pictures = 0.00\n",
            "Lions Gate Films = 0.00\n",
            "Lionsgate = 0.00\n",
            "Lucasfilm = 0.00\n",
            "MTV Films = 0.00\n",
            "Malpaso Productions = 0.00\n",
            "Marvel Enterprises = 0.00\n",
            "Metro-Goldwyn-Mayer (MGM) = 0.00\n",
            "Millennium Films = 0.00\n",
            "Mirage Enterprises = 0.00\n",
            "Miramax Films = 0.00\n",
            "Morgan Creek Productions = 0.00\n",
            "NPV Entertainment = 0.00\n",
            "New Line Cinema = 0.00\n",
            "New Regency Pictures = 0.00\n",
            "Nickelodeon Movies = 0.00\n",
            "Original Film = 0.00\n",
            "Orion Pictures = 0.00\n",
            "Paramount Pictures = 0.00\n",
            "Participant Media = 0.00\n",
            "Phoenix Pictures = 0.00\n",
            "Pixar Animation Studios = 0.00\n",
            "PolyGram Filmed Entertainment = 0.00\n",
            "Regency Enterprises = 0.00\n",
            "Relativity Media = 0.00\n",
            "Revolution Studios = 0.00\n",
            "Revolution Sun Studios = 0.00\n",
            "Scott Free Productions = 0.00\n",
            "Scott Rudin Productions = 0.00\n",
            "Screen Gems = 0.00\n",
            "Silver Pictures = 0.00\n",
            "Sony Pictures Classics = 0.00\n",
            "Spyglass Entertainment = 0.00\n",
            "Studio Babelsberg = 0.00\n",
            "Studio Canal = 0.00\n",
            "StudioCanal = 0.00\n",
            "Summit Entertainment = 0.00\n",
            "TF1 Films Production = 0.00\n",
            "TSG Entertainment = 0.00\n",
            "The Weinstein Company = 0.00\n",
            "Touchstone Pictures = 0.00\n",
            "TriStar Pictures = 0.00\n",
            "Twentieth Century Fox Film Corporation = 0.00\n",
            "UK Film Council = 0.00\n",
            "United Artists = 0.00\n",
            "Universal Pictures = 0.00\n",
            "Vertigo Entertainment = 0.00\n",
            "Village Roadshow Pictures = 0.00\n",
            "Walden Media = 0.00\n",
            "Walt Disney Pictures = 0.00\n",
            "Warner Bros. = 0.00\n",
            "Wild Bunch = 0.00\n",
            "Working Title Films = 0.00\n",
            "production_companies_etc = 0.00\n"
          ],
          "name": "stdout"
        }
      ]
    },
    {
      "cell_type": "code",
      "metadata": {
        "id": "jzFCVlHygDco",
        "colab_type": "code",
        "outputId": "174d3fe7-d116-4b55-948e-717540314bae",
        "colab": {
          "base_uri": "https://localhost:8080/",
          "height": 179
        }
      },
      "source": [
        "##### for xgboosting\n",
        "## the initial model before param tuning\n",
        "xg = GradientBoostingRegressor( # How to calculate losses. Deviance is for probabilistic outputs. Alternative exponential for AdaBoost. \n",
        "                           learning_rate=0.1, # How much to shrink error in each subsequent training. Trade-off with no. estimators.\n",
        "                           n_estimators=2000, # How many trees to use, the more the better, but decrease learning rate if many used.\n",
        "                           subsample=0.632, # Subsampling to use. 63.2% of data is standard for XGBoost.But The gridsearch gives 0.8 to be better.\n",
        "                           criterion='friedman_mse', # Error to use for each split. Good idea to leave it as is.\n",
        "                           min_samples_split=2, # Minimum samples for a split.\n",
        "                           min_samples_leaf=1, # Minimum samples in a leaf.\n",
        "                           min_weight_fraction_leaf=0.0, # Minimum fraction of samples in a leaf. Consider increasing if first few trees too good.\n",
        "                           max_depth=3, # Maximum depth.\n",
        "                           min_impurity_decrease=0.01, # Minimum impurity decrease. Might want to use 1% or so.\n",
        "                           init=None, # How to make first prediction (it needs one). Can give model that supports fit and predict.\n",
        "                           random_state=1, # Seed\n",
        "                           max_features='auto', # Same as RF. \n",
        "                           verbose=0,  # Same as RF.\n",
        "                           max_leaf_nodes=None,  # Same as RF.\n",
        "                           warm_start=False,  # Same as RF.\n",
        "                           presort='auto', # Whether to presort the data to speed up training.\n",
        "                           validation_fraction=0.3, # XGBoost CAN overfit, so control this just in case. Uses 30% validation in this case.\n",
        "                           n_iter_no_change=None, # Iters to stop training if no change occurs between one tree and the next.\n",
        "                           tol=0.0001 # Tolerance. Means maximum change of 10^-4\n",
        "                          )\n",
        "xg.fit(xtrain,ytrain)"
      ],
      "execution_count": 0,
      "outputs": [
        {
          "output_type": "execute_result",
          "data": {
            "text/plain": [
              "GradientBoostingRegressor(alpha=0.9, criterion='friedman_mse', init=None,\n",
              "                          learning_rate=0.1, loss='ls', max_depth=3,\n",
              "                          max_features='auto', max_leaf_nodes=None,\n",
              "                          min_impurity_decrease=0.01, min_impurity_split=None,\n",
              "                          min_samples_leaf=1, min_samples_split=2,\n",
              "                          min_weight_fraction_leaf=0.0, n_estimators=2000,\n",
              "                          n_iter_no_change=None, presort='auto', random_state=1,\n",
              "                          subsample=0.632, tol=0.0001, validation_fraction=0.3,\n",
              "                          verbose=0, warm_start=False)"
            ]
          },
          "metadata": {
            "tags": []
          },
          "execution_count": 246
        }
      ]
    },
    {
      "cell_type": "code",
      "metadata": {
        "id": "x08-exPrTNuj",
        "colab_type": "code",
        "outputId": "a1b7ac11-5859-4a81-e15d-046b5881dee1",
        "colab": {
          "base_uri": "https://localhost:8080/",
          "height": 35
        }
      },
      "source": [
        "ypred_xg=xg.predict(xtest)\n",
        "mse_test_xg=(np.square(ytest - ypred_xg)).mean()\n",
        "mse_test_xg\n",
        "## test score of xgboosting before param tuning"
      ],
      "execution_count": 0,
      "outputs": [
        {
          "output_type": "execute_result",
          "data": {
            "text/plain": [
              "2.5624763114781164"
            ]
          },
          "metadata": {
            "tags": []
          },
          "execution_count": 247
        }
      ]
    },
    {
      "cell_type": "code",
      "metadata": {
        "id": "PMivJhhLTUfK",
        "colab_type": "code",
        "colab": {}
      },
      "source": [
        "cvscore_xg = cross_val_score(xg,xtrain,ytrain, cv=5, scoring=\"neg_mean_squared_error\")"
      ],
      "execution_count": 0,
      "outputs": []
    },
    {
      "cell_type": "code",
      "metadata": {
        "id": "MxgSCG4ITaWY",
        "colab_type": "code",
        "outputId": "54d30221-22b1-4888-c3d9-3dfb4512aeac",
        "colab": {
          "base_uri": "https://localhost:8080/",
          "height": 35
        }
      },
      "source": [
        "cvscore_xg.mean()\n",
        "## cv score of xg before param tuning"
      ],
      "execution_count": 0,
      "outputs": [
        {
          "output_type": "execute_result",
          "data": {
            "text/plain": [
              "-2.3243816951059317"
            ]
          },
          "metadata": {
            "tags": []
          },
          "execution_count": 249
        }
      ]
    },
    {
      "cell_type": "code",
      "metadata": {
        "id": "0yOIIiXGmZUB",
        "colab_type": "code",
        "outputId": "fe76700e-b8ce-42c2-ccda-89d5397e438b",
        "colab": {
          "base_uri": "https://localhost:8080/",
          "height": 71
        }
      },
      "source": [
        "## tune param:max_depth\n",
        "\n",
        "parameters = {\n",
        " 'max_depth':[3,5,10,15]\n",
        "}\n",
        "gsearch = GridSearchCV(xg, param_grid=parameters, scoring='neg_mean_squared_error', cv=3)\n",
        "gsearch.fit(xtrain, ytrain)\n",
        "\n",
        "print(\"Best score: %0.3f\" % gsearch.best_score_)\n",
        "print(\"Best parameters set:\")\n",
        "best_parameters = gsearch.best_estimator_.get_params()\n",
        "for param_name in sorted(parameters.keys()):\n",
        "    print(\"\\t%s: %r\" % (param_name, best_parameters[param_name]))\n"
      ],
      "execution_count": 0,
      "outputs": [
        {
          "output_type": "stream",
          "text": [
            "Best score: -2.256\n",
            "Best parameters set:\n",
            "\tmax_depth: 5\n"
          ],
          "name": "stdout"
        }
      ]
    },
    {
      "cell_type": "code",
      "metadata": {
        "id": "hJMtDxnUTuYZ",
        "colab_type": "code",
        "outputId": "dc8a2500-6655-4543-f5ad-6837278be0b6",
        "colab": {
          "base_uri": "https://localhost:8080/",
          "height": 71
        }
      },
      "source": [
        "## tune param:min_samples_split\n",
        "\n",
        "parameters = {\n",
        " 'min_samples_split':[2,5,10]\n",
        "}\n",
        "gsearch = GridSearchCV(xg, param_grid=parameters, scoring='neg_mean_squared_error', cv=3)\n",
        "gsearch.fit(xtrain, ytrain)\n",
        "\n",
        "print(\"Best score: %0.3f\" % gsearch.best_score_)\n",
        "print(\"Best parameters set:\")\n",
        "best_parameters = gsearch.best_estimator_.get_params()\n",
        "for param_name in sorted(parameters.keys()):\n",
        "    print(\"\\t%s: %r\" % (param_name, best_parameters[param_name]))"
      ],
      "execution_count": 0,
      "outputs": [
        {
          "output_type": "stream",
          "text": [
            "Best score: -2.151\n",
            "Best parameters set:\n",
            "\tmin_samples_split: 2\n"
          ],
          "name": "stdout"
        }
      ]
    },
    {
      "cell_type": "code",
      "metadata": {
        "id": "jgrMqWd_T8cc",
        "colab_type": "code",
        "outputId": "d690d931-9519-4efb-d9d1-613c968ab331",
        "colab": {
          "base_uri": "https://localhost:8080/",
          "height": 71
        }
      },
      "source": [
        "## tune param:learning rate\n",
        "parameters = {\n",
        " 'learning_rate':[0.05,0.1]\n",
        "}\n",
        "gsearch = GridSearchCV(xg, param_grid=parameters, scoring='neg_mean_squared_error', cv=3)\n",
        "gsearch.fit(xtrain, ytrain)\n",
        "\n",
        "print(\"Best score: %0.3f\" % gsearch.best_score_)\n",
        "print(\"Best parameters set:\")\n",
        "best_parameters = gsearch.best_estimator_.get_params()\n",
        "for param_name in sorted(parameters.keys()):\n",
        "    print(\"\\t%s: %r\" % (param_name, best_parameters[param_name]))"
      ],
      "execution_count": 0,
      "outputs": [
        {
          "output_type": "stream",
          "text": [
            "Best score: -2.219\n",
            "Best parameters set:\n",
            "\tmin_samples_split: 0.05\n"
          ],
          "name": "stdout"
        }
      ]
    },
    {
      "cell_type": "code",
      "metadata": {
        "id": "4Mv7MAqbebZC",
        "colab_type": "code",
        "colab": {}
      },
      "source": [
        "## now we rebuild xgboosting model with best params we got.\n",
        "## also set number of estimators to 5000 to have better performance\n",
        "xg = GradientBoostingRegressor( \n",
        "                           learning_rate=0.05, # How much to shrink error in each subsequent training. Trade-off with no. estimators.\n",
        "                           n_estimators=5000, # How many trees to use, the more the better\n",
        "                           subsample=0.8, # Subsampling to use. The gridsearch gives 0.8 to be better.\n",
        "                           criterion='friedman_mse', # Error to use for each split. Good idea to leave it as is.\n",
        "                           min_samples_split=2, # obtained from param tuning\n",
        "                           min_samples_leaf=1, # Minimum samples in a leaf.\n",
        "                           min_weight_fraction_leaf=0.0, # Minimum fraction of samples in a leaf. Consider increasing if first few trees too good.\n",
        "                           max_depth=5, # obtained from param tuning\n",
        "                           min_impurity_decrease=0.01, # Minimum impurity decrease. Might want to use 1% or so.\n",
        "                           init=None, \n",
        "                           random_state=1, # Seed\n",
        "                           max_features='auto', # Same as RF. \n",
        "                           verbose=0,  # Same as RF.\n",
        "                           max_leaf_nodes=None,  # Same as RF.\n",
        "                           warm_start=False,  # Same as RF.\n",
        "                           presort='auto', # Whether to presort the data to speed up training.\n",
        "                           validation_fraction=0.3, # XGBoost CAN overfit.Uses 30% validation in this case.\n",
        "                           n_iter_no_change=None, # Iters to stop training if no change occurs between one tree and the next.\n",
        "                           tol=0.0001 # Tolerance. Means maximum change of 10^-4\n",
        "                          )"
      ],
      "execution_count": 0,
      "outputs": []
    },
    {
      "cell_type": "code",
      "metadata": {
        "id": "BAzQ5auymV-B",
        "colab_type": "code",
        "outputId": "be165a8a-4654-45d4-caa8-74b74dd5d352",
        "colab": {
          "base_uri": "https://localhost:8080/",
          "height": 179
        }
      },
      "source": [
        "xg.fit(xtrain,ytrain)"
      ],
      "execution_count": 0,
      "outputs": [
        {
          "output_type": "execute_result",
          "data": {
            "text/plain": [
              "GradientBoostingRegressor(alpha=0.9, criterion='friedman_mse', init=None,\n",
              "                          learning_rate=0.05, loss='ls', max_depth=5,\n",
              "                          max_features='auto', max_leaf_nodes=None,\n",
              "                          min_impurity_decrease=0.01, min_impurity_split=None,\n",
              "                          min_samples_leaf=1, min_samples_split=2,\n",
              "                          min_weight_fraction_leaf=0.0, n_estimators=5000,\n",
              "                          n_iter_no_change=None, presort='auto', random_state=1,\n",
              "                          subsample=0.8, tol=0.0001, validation_fraction=0.3,\n",
              "                          verbose=0, warm_start=False)"
            ]
          },
          "metadata": {
            "tags": []
          },
          "execution_count": 258
        }
      ]
    },
    {
      "cell_type": "code",
      "metadata": {
        "id": "WarK9W5bgDcr",
        "colab_type": "code",
        "outputId": "3fe94282-cd92-439e-8c01-82b76dfa09d3",
        "colab": {
          "base_uri": "https://localhost:8080/"
        }
      },
      "source": [
        "ypred_xg=xg.predict(xtest)\n",
        "mse_test_xg=(np.square(ytest - ypred_xg)).mean()\n",
        "mse_test_xg\n",
        "## mse on test set after param tuning"
      ],
      "execution_count": 0,
      "outputs": [
        {
          "output_type": "execute_result",
          "data": {
            "text/plain": [
              "2.371746599761329"
            ]
          },
          "metadata": {
            "tags": []
          },
          "execution_count": 259
        }
      ]
    },
    {
      "cell_type": "code",
      "metadata": {
        "id": "E1y8G6H-gDcs",
        "colab_type": "code",
        "colab": {}
      },
      "source": [
        "cvscore_xg = cross_val_score(xg,xtrain,ytrain, cv=5, scoring=\"neg_mean_squared_error\")"
      ],
      "execution_count": 0,
      "outputs": []
    },
    {
      "cell_type": "code",
      "metadata": {
        "id": "VnZw4qnWgDcv",
        "colab_type": "code",
        "colab": {}
      },
      "source": [
        "print(cvscore_xg.mean())\n",
        "## cv score of xgboosting after param tuning"
      ],
      "execution_count": 0,
      "outputs": []
    },
    {
      "cell_type": "code",
      "metadata": {
        "id": "WYrHO3YIgDcz",
        "colab_type": "code",
        "colab": {}
      },
      "source": [
        "for name, importance in zip(xtrain.columns, xg.feature_importances_):\n",
        "  print(name, \"= %.2f\" % importance)\n",
        "## there are more predictors having importance than in random forest"
      ],
      "execution_count": 0,
      "outputs": []
    },
    {
      "cell_type": "code",
      "metadata": {
        "id": "izJQWmXG6Utp",
        "colab_type": "code",
        "outputId": "64de2106-8101-4604-d589-4524e944511f",
        "colab": {
          "base_uri": "https://localhost:8080/",
          "height": 71
        }
      },
      "source": [
        "test_date = test_date.apply(lambda x:x=x[:])"
      ],
      "execution_count": 0,
      "outputs": [
        {
          "output_type": "execute_result",
          "data": {
            "text/plain": [
              "array(['2015/9/21', '2008/8/22', '2012/8/16', '2000/7/19', '2001/5/15',\n",
              "       '2009/11/13', '1997/1/24', '2014/5/14', '2011/8/18', '2015/7/29'],\n",
              "      dtype=object)"
            ]
          },
          "metadata": {
            "tags": []
          },
          "execution_count": 171
        }
      ]
    },
    {
      "cell_type": "code",
      "metadata": {
        "id": "UUIo5gzl-vs6",
        "colab_type": "code",
        "outputId": "a8d76577-761e-4e9d-d974-a2086a98295d",
        "colab": {
          "base_uri": "https://localhost:8080/",
          "height": 307
        }
      },
      "source": [
        "## how the predicted revenue differ from true revenue?\n",
        "sns.distplot(np.exp(ytest))\n",
        "## take 0.4*e^9 as cutoff for low and hight revenue movie"
      ],
      "execution_count": 0,
      "outputs": [
        {
          "output_type": "execute_result",
          "data": {
            "text/plain": [
              "<matplotlib.axes._subplots.AxesSubplot at 0x7f3906df2be0>"
            ]
          },
          "metadata": {
            "tags": []
          },
          "execution_count": 202
        },
        {
          "output_type": "display_data",
          "data": {
            "image/png": "[encoded data removed]",
            "text/plain": [
              "<Figure size 432x288 with 1 Axes>"
            ]
          },
          "metadata": {
            "tags": []
          }
        }
      ]
    },
    {
      "cell_type": "code",
      "metadata": {
        "id": "zMAfSLbyER8c",
        "colab_type": "code",
        "outputId": "9c980058-05ab-42cd-ee39-38804366ebae",
        "colab": {
          "base_uri": "https://localhost:8080/",
          "height": 35
        }
      },
      "source": [
        "low_rev_test_idx, = np.where(np.exp(ytest) < np.exp(9)/0.1)\n",
        "len(low_rev_test_idx)"
      ],
      "execution_count": 0,
      "outputs": [
        {
          "output_type": "execute_result",
          "data": {
            "text/plain": [
              "168"
            ]
          },
          "metadata": {
            "tags": []
          },
          "execution_count": 215
        }
      ]
    },
    {
      "cell_type": "code",
      "metadata": {
        "id": "C5y3LNxXCrKl",
        "colab_type": "code",
        "outputId": "c256dba6-8ee5-46fc-9768-ab2436c943c3",
        "colab": {
          "base_uri": "https://localhost:8080/",
          "height": 283
        }
      },
      "source": [
        "sns.distplot(ytest)"
      ],
      "execution_count": 0,
      "outputs": [
        {
          "output_type": "execute_result",
          "data": {
            "text/plain": [
              "<matplotlib.axes._subplots.AxesSubplot at 0x7f3906fbb550>"
            ]
          },
          "metadata": {
            "tags": []
          },
          "execution_count": 198
        },
        {
          "output_type": "display_data",
          "data": {
            "image/png": "[encoded data removed]",
            "text/plain": [
              "<Figure size 432x288 with 1 Axes>"
            ]
          },
          "metadata": {
            "tags": []
          }
        }
      ]
    },
    {
      "cell_type": "code",
      "metadata": {
        "id": "aa9bpE9Q_iWZ",
        "colab_type": "code",
        "outputId": "4e9fc475-bcf9-47bf-81e5-a7f7ed2b22ab",
        "colab": {
          "base_uri": "https://localhost:8080/",
          "height": 35
        }
      },
      "source": [
        "low_rev_test_idx, = np.where(ytest < 13)\n",
        "len(low_rev_test_idx)"
      ],
      "execution_count": 0,
      "outputs": [
        {
          "output_type": "execute_result",
          "data": {
            "text/plain": [
              "32"
            ]
          },
          "metadata": {
            "tags": []
          },
          "execution_count": 200
        }
      ]
    },
    {
      "cell_type": "code",
      "metadata": {
        "id": "q4oHYb3_2JV3",
        "colab_type": "code",
        "outputId": "0f222de2-f4bf-43f3-ae17-b1da43d90d6e",
        "colab": {
          "base_uri": "https://localhost:8080/",
          "height": 749
        }
      },
      "source": [
        "plt.figure(figsize=(20,12))\n",
        "sns.scatterplot(y=np.exp(ytest[:200]),x=test_date[:200],alpha=0.5)\n",
        "sns.scatterplot(y=np.exp(ypred_xg[:200]),x=test_date[:200],alpha=0.5)\n",
        "#sns.distplot(ypred_xg)"
      ],
      "execution_count": 0,
      "outputs": [
        {
          "output_type": "execute_result",
          "data": {
            "text/plain": [
              "<matplotlib.axes._subplots.AxesSubplot at 0x7f39073114a8>"
            ]
          },
          "metadata": {
            "tags": []
          },
          "execution_count": 183
        },
        {
          "output_type": "display_data",
          "data": {
            "image/png": "[encoded data removed]",
            "text/plain": [
              "<Figure size 1440x864 with 1 Axes>"
            ]
          },
          "metadata": {
            "tags": []
          }
        }
      ]
    },
    {
      "cell_type": "code",
      "metadata": {
        "id": "xLcN8IejWDw-",
        "colab_type": "code",
        "outputId": "def03014-ca3b-49a0-a013-68dc4b18bc59",
        "colab": {
          "base_uri": "https://localhost:8080/",
          "height": 284
        }
      },
      "source": [
        "##NO MORE. we would also like to predict whether the movie will be popular. \n",
        "## The response variable here will be \"popularity\" we just dropped\n",
        "## we take median as cutoff value.\n",
        "sns.distplot(popularity)"
      ],
      "execution_count": 0,
      "outputs": [
        {
          "output_type": "execute_result",
          "data": {
            "text/plain": [
              "<matplotlib.axes._subplots.AxesSubplot at 0x7f3927e8b390>"
            ]
          },
          "metadata": {
            "tags": []
          },
          "execution_count": 119
        },
        {
          "output_type": "display_data",
          "data": {
            "image/png": "[encoded data removed]",
            "text/plain": [
              "<Figure size 432x288 with 1 Axes>"
            ]
          },
          "metadata": {
            "tags": []
          }
        }
      ]
    },
    {
      "cell_type": "code",
      "metadata": {
        "id": "ty-Ux2gsjUlA",
        "colab_type": "code",
        "colab": {}
      },
      "source": [
        "## pop is the categorical variable for popularity\n",
        "pop=np.ndarray(len(popularity))\n",
        "for i in range(len(popularity)):\n",
        "  if popularity[i]<np.median(popularity):\n",
        "    pop[i]=0\n",
        "  else:\n",
        "    pop[i]=1\n",
        "xtrain,xtest,ytrain,ytest=train_test_split(df,pop,train_size=0.7,random_state=0,shuffle=True)"
      ],
      "execution_count": 0,
      "outputs": []
    },
    {
      "cell_type": "code",
      "metadata": {
        "id": "0Jo-ZymrkmZ9",
        "colab_type": "code",
        "outputId": "95d4bc3a-4472-4c37-e379-492f7ac46d90",
        "colab": {
          "base_uri": "https://localhost:8080/",
          "height": 35
        }
      },
      "source": [
        "y.mean()"
      ],
      "execution_count": 0,
      "outputs": [
        {
          "output_type": "execute_result",
          "data": {
            "text/plain": [
              "17.206076873694514"
            ]
          },
          "metadata": {
            "tags": []
          },
          "execution_count": 150
        }
      ]
    }
  ]
}